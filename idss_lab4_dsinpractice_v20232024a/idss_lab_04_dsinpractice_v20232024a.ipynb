{
 "cells": [
  {
   "cell_type": "markdown",
   "metadata": {
    "deletable": false,
    "editable": false,
    "nbgrader": {
     "cell_type": "markdown",
     "checksum": "84325d88ab3be3d5f5f0dbff4c09b641",
     "grade": false,
     "grade_id": "cell-9995d325f17152b9",
     "locked": true,
     "schema_version": 3,
     "solution": false
    },
    "tags": []
   },
   "source": [
    "# Introduction to Data Science and Systems 2023-2024\n",
    "### v20232024a\n",
    "# Lab 4: Data Science in practice\n",
    "\n",
    "**You should submit this notebook on Moodle along with one pdf file (see the end of the notebook and Moodle for instructions)**\n",
    "\n",
    "---\n",
    "**University of Glasgow**\n",
    "> - original material prepared by: JHW, BSJ, NP 2021-2022\n",
    "> - current version modifed and reviewed by: ZM and NP 2023"
   ]
  },
  {
   "cell_type": "markdown",
   "metadata": {
    "deletable": false,
    "editable": false,
    "nbgrader": {
     "cell_type": "markdown",
     "checksum": "9f8b0f81996e9e1f43d6d8d4b8e41bef",
     "grade": false,
     "grade_id": "cell-32f2e0771a121341",
     "locked": true,
     "schema_version": 3,
     "solution": false
    }
   },
   "source": [
    "## Purpose of this lab\n",
    "\n",
    "In the lab you might need to use your *pen* and *paper* to do some calcuation, and then type your solution into some corresponding variables for autograding.\n",
    "\n",
    "You will apply some of the data science and systems techniques you have learned about previously. \n",
    "\n",
    "The aim is to use the basic techniques to solve a specific problem related to accessing and storing data in memory (i.e. Pandas Dataframe) and disk storage. \n",
    "\n",
    "**Task A: Physical storage for a relation database**\n",
    "* Estimate the space cost of a relation data system\n",
    "\n",
    "**Task B: Compressing data by PCA**\n",
    "* Implement a solution for compressing the values in the dataset based on PCA\n",
    "\n",
    "**Task C: Query performance estimation**\n",
    "* Estimate the query cost of a joined data system\n",
    "\n",
    "**Task D: Query cardinality prediction**\n",
    "* Investigate the relationship between query cardinality and the query itself\n",
    "* Sample a set of realistic queries using your knowledge of probability density functions\n",
    "* Collect a dataset of queries and cardinality using Pandas \n",
    "* Suggest and implement your own solution for predicting the cardinality of the query (using linear algebra)\n",
    "\n",
    "\n",
    "\n",
    "***Notice:*** \n",
    "- This lab is more open-ended than the previous labs and there are fewer step-by-step instructions.\n",
    "- It is a brand new lab so there are bound to be a few glitches, so don't hesitate to ask if you get stuck.\n"
   ]
  },
  {
   "cell_type": "markdown",
   "metadata": {
    "deletable": false,
    "editable": false,
    "nbgrader": {
     "cell_type": "markdown",
     "checksum": "39856b66259d44e3c17f711502d06358",
     "grade": false,
     "grade_id": "cell-c7e386439fac5c97",
     "locked": true,
     "schema_version": 3,
     "solution": false,
     "task": false
    }
   },
   "source": [
    "---"
   ]
  },
  {
   "cell_type": "markdown",
   "metadata": {
    "deletable": false,
    "editable": false,
    "nbgrader": {
     "cell_type": "markdown",
     "checksum": "cb7fa184a216d711010362a68ff02736",
     "grade": false,
     "grade_id": "cell-67efb73461f39579",
     "locked": true,
     "schema_version": 3,
     "solution": false,
     "task": false
    },
    "tags": []
   },
   "source": [
    "## Before you begin\n",
    "\n",
    "Please update the tools we use for the automated grading by running the below command (uncomment) and restart your kernel (and then uncomment again) -- or simply perform the installation externally in an Anaconda/Python prompt."
   ]
  },
  {
   "cell_type": "code",
   "execution_count": 1,
   "metadata": {},
   "outputs": [],
   "source": [
    "# !pip install -U --force-reinstall --no-cache https://github.com/johnhw/jhwutils/zipball/master"
   ]
  },
  {
   "cell_type": "code",
   "execution_count": 2,
   "metadata": {
    "deletable": false,
    "editable": false,
    "nbgrader": {
     "cell_type": "code",
     "checksum": "fc49a8c6c3c5e43a0922e38f108f3510",
     "grade": false,
     "grade_id": "cell-f7034f5d267f92f4",
     "locked": true,
     "schema_version": 3,
     "solution": false,
     "task": false
    }
   },
   "outputs": [
    {
     "name": "stderr",
     "output_type": "stream",
     "text": [
      "d:\\ProgramData\\Anaconda\\Lib\\site-packages\\paramiko\\transport.py:219: CryptographyDeprecationWarning: Blowfish has been deprecated\n",
      "  \"class\": algorithms.Blowfish,\n"
     ]
    },
    {
     "name": "stdout",
     "output_type": "stream",
     "text": [
      "np 1.24.3\n",
      "pd 1.5.3\n",
      "Everything imported OK (ignore deprecated warnings)\n"
     ]
    }
   ],
   "source": [
    "# Standard imports\n",
    "# Make sure you run this cell!\n",
    "from __future__ import division, print_function\n",
    "\n",
    "import binascii\n",
    "import os\n",
    "import sys\n",
    "import time\n",
    "import timeit\n",
    "from unittest.mock import patch\n",
    "from uuid import getnode as get_mac\n",
    "\n",
    "import jhwutils.image_audio as ia\n",
    "import jhwutils.tick as tick\n",
    "import numpy as np  # NumPy\n",
    "import pandas as pd\n",
    "import math\n",
    "import scipy.stats\n",
    "from jhwutils.checkarr import array_hash, check_hash, check_scalar, check_string\n",
    "\n",
    "###\n",
    "tick.reset_marks()\n",
    "\n",
    "# special hash funciton\n",
    "def case_crc(s, verbose=True):\n",
    "    h_crc = binascii.crc32(bytes(s.lower(), \"utf-8\"))  ##change to ascii\n",
    "    if verbose:\n",
    "        print(h_crc)\n",
    "    return h_crc\n",
    "\n",
    "\n",
    "# this command generaties a unique key for your system/computer/account\n",
    "uuid_simple = (\"%s\") % get_mac()\n",
    "uuid_str = (\"%s\\n%s\\n%s\\n%s\\n%s\\n\") % (\n",
    "    os.path,\n",
    "    sys.path,\n",
    "    sys.version,\n",
    "    sys.version_info,\n",
    "    get_mac(),\n",
    ")\n",
    "uuid_system = case_crc(uuid_str, verbose=False)\n",
    "\n",
    "\n",
    "# Set up Matplotlib\n",
    "import matplotlib as mpl\n",
    "import matplotlib.pyplot as plt\n",
    "\n",
    "%matplotlib inline\n",
    "plt.rc(\"figure\", figsize=(8.0, 4.0), dpi=140)\n",
    "np.random.seed(2019)\n",
    "\n",
    "# You can ignore this\n",
    "print(\"np\", np.__version__)\n",
    "print(\"pd\", pd.__version__)\n",
    "print(\"Everything imported OK (ignore deprecated warnings)\")"
   ]
  },
  {
   "cell_type": "code",
   "execution_count": 3,
   "metadata": {
    "deletable": false,
    "editable": false,
    "nbgrader": {
     "cell_type": "code",
     "checksum": "e46a494577565c6dc3c0ef7e5b643c9d",
     "grade": true,
     "grade_id": "cell-0f5367ef948a09e5",
     "locked": true,
     "points": 0,
     "schema_version": 3,
     "solution": false
    }
   },
   "outputs": [],
   "source": [
    "# Hidden cell for utils needed when grading (you can/should not edit this)"
   ]
  },
  {
   "cell_type": "markdown",
   "metadata": {},
   "source": [
    "---"
   ]
  },
  {
   "cell_type": "markdown",
   "metadata": {
    "deletable": false,
    "editable": false,
    "nbgrader": {
     "cell_type": "markdown",
     "checksum": "dec9268b4d9bcf8c0dc45c4725ad4fa6",
     "grade": false,
     "grade_id": "cell-81b8a494524a0965",
     "locked": true,
     "schema_version": 3,
     "solution": false
    }
   },
   "source": [
    "**Mini-task**: provide your personal details in two variables:\n",
    "\n",
    "* `student_id` : a string containing your student id (e.g. \"1234567x\"), must be 8 chars long.\n",
    "* `student_typewritten_signature`: a string with your name (e.g. \"Adam Smith\") which serves as a declaration that this is your own work (read the declaration of originality when you submit on Moodle)."
   ]
  },
  {
   "cell_type": "code",
   "execution_count": 4,
   "metadata": {
    "deletable": false,
    "nbgrader": {
     "cell_type": "code",
     "checksum": "2b4ac92251b99a35d406cfde87826ac8",
     "grade": false,
     "grade_id": "cell-093ae1eb980af8c9",
     "locked": false,
     "schema_version": 3,
     "solution": true
    }
   },
   "outputs": [],
   "source": [
    "student_id = \"2931267N\"  # your 8 char student id\n",
    "student_typewritten_signature = \"Siyu Na\"  # your full name, avoid spceical chars if possible\n",
    "\n",
    "# # YOUR CODE HERE\n",
    "# raise NotImplementedError()"
   ]
  },
  {
   "cell_type": "markdown",
   "metadata": {
    "deletable": false,
    "editable": false,
    "nbgrader": {
     "cell_type": "markdown",
     "checksum": "344128af8d08e1230efa6fff4f6d182d",
     "grade": false,
     "grade_id": "cell-e461d870c98875e1",
     "locked": true,
     "schema_version": 3,
     "solution": false,
     "task": false
    }
   },
   "source": [
    "## Introduction\n",
    "\n",
    "The system admins are planning to temporally process the data in a Panda dataframe (stored in varable `data`), and then dump it into the disk as a relation database.\n",
    "However, they are concerned about the performance of on both the Panda-based system and relational data system. We will investigate these in the following tasks."
   ]
  },
  {
   "cell_type": "markdown",
   "metadata": {
    "deletable": false,
    "editable": false,
    "nbgrader": {
     "cell_type": "markdown",
     "checksum": "595d7c671f054fbc7619561596390ce7",
     "grade": false,
     "grade_id": "cell-efa61adcaba08934",
     "locked": true,
     "schema_version": 3,
     "solution": false
    }
   },
   "source": [
    "### Download the dataset and load the dataset\n",
    "Download the **Covertype** Data Set from the UCI repository and save it in a subfolder called data (i.e. when loading you should load from \"./data/covtype.data\")\n",
    "\n",
    "https://archive.ics.uci.edu/ml/datasets/Covertype\n",
    "\n",
    "Load the dataset in `covtype.data` into a Panda dataframe and add appropriate headers to the first **11 columns** (below please see a list of column names) according to the dataset description (e.g. the first column should be \"Elevation\").\n",
    ">    - 'Elevation'\n",
    ">    - 'Aspect'\n",
    ">    - 'Slope'\n",
    ">    - 'Horizontal_Distance_To_Hydrology'\n",
    ">    - 'Vertical_Distance_To_Hydrology'\n",
    ">    - 'Horizontal_Distance_To_Roadways'\n",
    ">    - 'Hillshade_9am'\n",
    ">    - 'Hillshade_Noon'\n",
    ">    - 'Hillshade_3pm'\n",
    ">    - 'Horizontal_Distance_To_Fire_Points'\n",
    ">    - 'Wilderness_Area'\n",
    "\n",
    "Hint: use `pandas.read_csv` to load a dataset into `DataFrame` without header and consider using its `rename` method.\n"
   ]
  },
  {
   "cell_type": "code",
   "execution_count": 5,
   "metadata": {
    "deletable": false,
    "nbgrader": {
     "cell_type": "code",
     "checksum": "75fd8b88bd0b44f03638a05bceb48ebd",
     "grade": false,
     "grade_id": "cell-2c78f3f996910518",
     "locked": false,
     "schema_version": 3,
     "solution": true
    }
   },
   "outputs": [],
   "source": [
    "# YOUR CODE HERE\n",
    "# raise NotImplementedError()\n",
    "filename = \"./data/covtype.data\"\n",
    "column_names = ['Elevation', 'Aspect', 'Slope', 'Horizontal_Distance_To_Hydrology', 'Vertical_Distance_To_Hydrology', 'Horizontal_Distance_To_Roadways', 'Hillshade_9am', 'Hillshade_Noon', 'Hillshade_3pm', 'Horizontal_Distance_To_Fire_Points', 'Wilderness_Area']\n",
    "data = pd.read_csv(filename, header=None)\n",
    "data.rename(columns={i: name for i, name in enumerate(column_names)}, inplace=True)"
   ]
  },
  {
   "cell_type": "code",
   "execution_count": 6,
   "metadata": {
    "deletable": false,
    "editable": false,
    "nbgrader": {
     "cell_type": "code",
     "checksum": "06beacae59efd0d3d7e1b9f51f7cf373",
     "grade": true,
     "grade_id": "cell-9979e8d21e886ee4",
     "locked": true,
     "points": 0,
     "schema_version": 3,
     "solution": false,
     "task": false
    }
   },
   "outputs": [
    {
     "data": {
      "text/html": [
       "\n",
       "        <div class=\"alert alert-box alert-success\">\n",
       "        <h1> <!--{id:\"CORRECTMARK\", marks:\"0\"}--> \n",
       "         ✓ [0 marks] \n",
       "         </h1> </div>"
      ],
      "text/plain": [
       "<IPython.core.display.HTML object>"
      ]
     },
     "metadata": {},
     "output_type": "display_data"
    }
   ],
   "source": [
    "# Check that you have (most likely) the right data set and have added headers.\n",
    "with tick.marks(0):\n",
    "    assert np.sum(data[\"Elevation\"].to_numpy()) == 1719426752\n",
    "    for i in range(0, 11):\n",
    "        assert isinstance(data.columns[i], str)\n"
   ]
  },
  {
   "cell_type": "markdown",
   "metadata": {
    "deletable": false,
    "editable": false,
    "nbgrader": {
     "cell_type": "markdown",
     "checksum": "74ad7a9ae558260322ccac06964bd234",
     "grade": false,
     "grade_id": "cell-7dfb8c78bb4462ad",
     "locked": true,
     "schema_version": 3,
     "solution": false,
     "task": false
    }
   },
   "source": [
    "## Task A: Physical storage for a relation database\n",
    "Now you are asked to dump this dataset into the disk as a relation (called relation **C**), with the index of DataFrame as its primary key.\n",
    "### Task A.1 Inspect the data\n",
    "We can use Panda's `describe` function to extract some useful statistics"
   ]
  },
  {
   "cell_type": "code",
   "execution_count": 7,
   "metadata": {
    "deletable": false,
    "editable": false,
    "nbgrader": {
     "cell_type": "code",
     "checksum": "c61bdf36da7d65aebfb789e0c4aeb7eb",
     "grade": false,
     "grade_id": "cell-0da6f06087b11492",
     "locked": true,
     "schema_version": 3,
     "solution": false,
     "task": false
    }
   },
   "outputs": [
    {
     "data": {
      "text/html": [
       "<div>\n",
       "<style scoped>\n",
       "    .dataframe tbody tr th:only-of-type {\n",
       "        vertical-align: middle;\n",
       "    }\n",
       "\n",
       "    .dataframe tbody tr th {\n",
       "        vertical-align: top;\n",
       "    }\n",
       "\n",
       "    .dataframe thead th {\n",
       "        text-align: right;\n",
       "    }\n",
       "</style>\n",
       "<table border=\"1\" class=\"dataframe\">\n",
       "  <thead>\n",
       "    <tr style=\"text-align: right;\">\n",
       "      <th></th>\n",
       "      <th>Elevation</th>\n",
       "      <th>Aspect</th>\n",
       "      <th>Slope</th>\n",
       "      <th>Horizontal_Distance_To_Hydrology</th>\n",
       "      <th>Vertical_Distance_To_Hydrology</th>\n",
       "      <th>Horizontal_Distance_To_Roadways</th>\n",
       "      <th>Hillshade_9am</th>\n",
       "      <th>Hillshade_Noon</th>\n",
       "      <th>Hillshade_3pm</th>\n",
       "      <th>Horizontal_Distance_To_Fire_Points</th>\n",
       "      <th>...</th>\n",
       "      <th>45</th>\n",
       "      <th>46</th>\n",
       "      <th>47</th>\n",
       "      <th>48</th>\n",
       "      <th>49</th>\n",
       "      <th>50</th>\n",
       "      <th>51</th>\n",
       "      <th>52</th>\n",
       "      <th>53</th>\n",
       "      <th>54</th>\n",
       "    </tr>\n",
       "  </thead>\n",
       "  <tbody>\n",
       "    <tr>\n",
       "      <th>count</th>\n",
       "      <td>581012.000000</td>\n",
       "      <td>581012.000000</td>\n",
       "      <td>581012.000000</td>\n",
       "      <td>581012.000000</td>\n",
       "      <td>581012.000000</td>\n",
       "      <td>581012.000000</td>\n",
       "      <td>581012.000000</td>\n",
       "      <td>581012.000000</td>\n",
       "      <td>581012.000000</td>\n",
       "      <td>581012.000000</td>\n",
       "      <td>...</td>\n",
       "      <td>581012.000000</td>\n",
       "      <td>581012.000000</td>\n",
       "      <td>581012.000000</td>\n",
       "      <td>581012.000000</td>\n",
       "      <td>581012.000000</td>\n",
       "      <td>581012.000000</td>\n",
       "      <td>581012.000000</td>\n",
       "      <td>581012.000000</td>\n",
       "      <td>581012.000000</td>\n",
       "      <td>581012.000000</td>\n",
       "    </tr>\n",
       "    <tr>\n",
       "      <th>mean</th>\n",
       "      <td>2959.365301</td>\n",
       "      <td>155.656807</td>\n",
       "      <td>14.103704</td>\n",
       "      <td>269.428217</td>\n",
       "      <td>46.418855</td>\n",
       "      <td>2350.146611</td>\n",
       "      <td>212.146049</td>\n",
       "      <td>223.318716</td>\n",
       "      <td>142.528263</td>\n",
       "      <td>1980.291226</td>\n",
       "      <td>...</td>\n",
       "      <td>0.090392</td>\n",
       "      <td>0.077716</td>\n",
       "      <td>0.002773</td>\n",
       "      <td>0.003255</td>\n",
       "      <td>0.000205</td>\n",
       "      <td>0.000513</td>\n",
       "      <td>0.026803</td>\n",
       "      <td>0.023762</td>\n",
       "      <td>0.015060</td>\n",
       "      <td>2.051471</td>\n",
       "    </tr>\n",
       "    <tr>\n",
       "      <th>std</th>\n",
       "      <td>279.984734</td>\n",
       "      <td>111.913721</td>\n",
       "      <td>7.488242</td>\n",
       "      <td>212.549356</td>\n",
       "      <td>58.295232</td>\n",
       "      <td>1559.254870</td>\n",
       "      <td>26.769889</td>\n",
       "      <td>19.768697</td>\n",
       "      <td>38.274529</td>\n",
       "      <td>1324.195210</td>\n",
       "      <td>...</td>\n",
       "      <td>0.286743</td>\n",
       "      <td>0.267725</td>\n",
       "      <td>0.052584</td>\n",
       "      <td>0.056957</td>\n",
       "      <td>0.014310</td>\n",
       "      <td>0.022641</td>\n",
       "      <td>0.161508</td>\n",
       "      <td>0.152307</td>\n",
       "      <td>0.121791</td>\n",
       "      <td>1.396504</td>\n",
       "    </tr>\n",
       "    <tr>\n",
       "      <th>min</th>\n",
       "      <td>1859.000000</td>\n",
       "      <td>0.000000</td>\n",
       "      <td>0.000000</td>\n",
       "      <td>0.000000</td>\n",
       "      <td>-173.000000</td>\n",
       "      <td>0.000000</td>\n",
       "      <td>0.000000</td>\n",
       "      <td>0.000000</td>\n",
       "      <td>0.000000</td>\n",
       "      <td>0.000000</td>\n",
       "      <td>...</td>\n",
       "      <td>0.000000</td>\n",
       "      <td>0.000000</td>\n",
       "      <td>0.000000</td>\n",
       "      <td>0.000000</td>\n",
       "      <td>0.000000</td>\n",
       "      <td>0.000000</td>\n",
       "      <td>0.000000</td>\n",
       "      <td>0.000000</td>\n",
       "      <td>0.000000</td>\n",
       "      <td>1.000000</td>\n",
       "    </tr>\n",
       "    <tr>\n",
       "      <th>25%</th>\n",
       "      <td>2809.000000</td>\n",
       "      <td>58.000000</td>\n",
       "      <td>9.000000</td>\n",
       "      <td>108.000000</td>\n",
       "      <td>7.000000</td>\n",
       "      <td>1106.000000</td>\n",
       "      <td>198.000000</td>\n",
       "      <td>213.000000</td>\n",
       "      <td>119.000000</td>\n",
       "      <td>1024.000000</td>\n",
       "      <td>...</td>\n",
       "      <td>0.000000</td>\n",
       "      <td>0.000000</td>\n",
       "      <td>0.000000</td>\n",
       "      <td>0.000000</td>\n",
       "      <td>0.000000</td>\n",
       "      <td>0.000000</td>\n",
       "      <td>0.000000</td>\n",
       "      <td>0.000000</td>\n",
       "      <td>0.000000</td>\n",
       "      <td>1.000000</td>\n",
       "    </tr>\n",
       "    <tr>\n",
       "      <th>50%</th>\n",
       "      <td>2996.000000</td>\n",
       "      <td>127.000000</td>\n",
       "      <td>13.000000</td>\n",
       "      <td>218.000000</td>\n",
       "      <td>30.000000</td>\n",
       "      <td>1997.000000</td>\n",
       "      <td>218.000000</td>\n",
       "      <td>226.000000</td>\n",
       "      <td>143.000000</td>\n",
       "      <td>1710.000000</td>\n",
       "      <td>...</td>\n",
       "      <td>0.000000</td>\n",
       "      <td>0.000000</td>\n",
       "      <td>0.000000</td>\n",
       "      <td>0.000000</td>\n",
       "      <td>0.000000</td>\n",
       "      <td>0.000000</td>\n",
       "      <td>0.000000</td>\n",
       "      <td>0.000000</td>\n",
       "      <td>0.000000</td>\n",
       "      <td>2.000000</td>\n",
       "    </tr>\n",
       "    <tr>\n",
       "      <th>75%</th>\n",
       "      <td>3163.000000</td>\n",
       "      <td>260.000000</td>\n",
       "      <td>18.000000</td>\n",
       "      <td>384.000000</td>\n",
       "      <td>69.000000</td>\n",
       "      <td>3328.000000</td>\n",
       "      <td>231.000000</td>\n",
       "      <td>237.000000</td>\n",
       "      <td>168.000000</td>\n",
       "      <td>2550.000000</td>\n",
       "      <td>...</td>\n",
       "      <td>0.000000</td>\n",
       "      <td>0.000000</td>\n",
       "      <td>0.000000</td>\n",
       "      <td>0.000000</td>\n",
       "      <td>0.000000</td>\n",
       "      <td>0.000000</td>\n",
       "      <td>0.000000</td>\n",
       "      <td>0.000000</td>\n",
       "      <td>0.000000</td>\n",
       "      <td>2.000000</td>\n",
       "    </tr>\n",
       "    <tr>\n",
       "      <th>max</th>\n",
       "      <td>3858.000000</td>\n",
       "      <td>360.000000</td>\n",
       "      <td>66.000000</td>\n",
       "      <td>1397.000000</td>\n",
       "      <td>601.000000</td>\n",
       "      <td>7117.000000</td>\n",
       "      <td>254.000000</td>\n",
       "      <td>254.000000</td>\n",
       "      <td>254.000000</td>\n",
       "      <td>7173.000000</td>\n",
       "      <td>...</td>\n",
       "      <td>1.000000</td>\n",
       "      <td>1.000000</td>\n",
       "      <td>1.000000</td>\n",
       "      <td>1.000000</td>\n",
       "      <td>1.000000</td>\n",
       "      <td>1.000000</td>\n",
       "      <td>1.000000</td>\n",
       "      <td>1.000000</td>\n",
       "      <td>1.000000</td>\n",
       "      <td>7.000000</td>\n",
       "    </tr>\n",
       "  </tbody>\n",
       "</table>\n",
       "<p>8 rows × 55 columns</p>\n",
       "</div>"
      ],
      "text/plain": [
       "           Elevation         Aspect          Slope  \\\n",
       "count  581012.000000  581012.000000  581012.000000   \n",
       "mean     2959.365301     155.656807      14.103704   \n",
       "std       279.984734     111.913721       7.488242   \n",
       "min      1859.000000       0.000000       0.000000   \n",
       "25%      2809.000000      58.000000       9.000000   \n",
       "50%      2996.000000     127.000000      13.000000   \n",
       "75%      3163.000000     260.000000      18.000000   \n",
       "max      3858.000000     360.000000      66.000000   \n",
       "\n",
       "       Horizontal_Distance_To_Hydrology  Vertical_Distance_To_Hydrology  \\\n",
       "count                     581012.000000                   581012.000000   \n",
       "mean                         269.428217                       46.418855   \n",
       "std                          212.549356                       58.295232   \n",
       "min                            0.000000                     -173.000000   \n",
       "25%                          108.000000                        7.000000   \n",
       "50%                          218.000000                       30.000000   \n",
       "75%                          384.000000                       69.000000   \n",
       "max                         1397.000000                      601.000000   \n",
       "\n",
       "       Horizontal_Distance_To_Roadways  Hillshade_9am  Hillshade_Noon  \\\n",
       "count                    581012.000000  581012.000000   581012.000000   \n",
       "mean                       2350.146611     212.146049      223.318716   \n",
       "std                        1559.254870      26.769889       19.768697   \n",
       "min                           0.000000       0.000000        0.000000   \n",
       "25%                        1106.000000     198.000000      213.000000   \n",
       "50%                        1997.000000     218.000000      226.000000   \n",
       "75%                        3328.000000     231.000000      237.000000   \n",
       "max                        7117.000000     254.000000      254.000000   \n",
       "\n",
       "       Hillshade_3pm  Horizontal_Distance_To_Fire_Points  ...             45  \\\n",
       "count  581012.000000                       581012.000000  ...  581012.000000   \n",
       "mean      142.528263                         1980.291226  ...       0.090392   \n",
       "std        38.274529                         1324.195210  ...       0.286743   \n",
       "min         0.000000                            0.000000  ...       0.000000   \n",
       "25%       119.000000                         1024.000000  ...       0.000000   \n",
       "50%       143.000000                         1710.000000  ...       0.000000   \n",
       "75%       168.000000                         2550.000000  ...       0.000000   \n",
       "max       254.000000                         7173.000000  ...       1.000000   \n",
       "\n",
       "                  46             47             48             49  \\\n",
       "count  581012.000000  581012.000000  581012.000000  581012.000000   \n",
       "mean        0.077716       0.002773       0.003255       0.000205   \n",
       "std         0.267725       0.052584       0.056957       0.014310   \n",
       "min         0.000000       0.000000       0.000000       0.000000   \n",
       "25%         0.000000       0.000000       0.000000       0.000000   \n",
       "50%         0.000000       0.000000       0.000000       0.000000   \n",
       "75%         0.000000       0.000000       0.000000       0.000000   \n",
       "max         1.000000       1.000000       1.000000       1.000000   \n",
       "\n",
       "                  50             51             52             53  \\\n",
       "count  581012.000000  581012.000000  581012.000000  581012.000000   \n",
       "mean        0.000513       0.026803       0.023762       0.015060   \n",
       "std         0.022641       0.161508       0.152307       0.121791   \n",
       "min         0.000000       0.000000       0.000000       0.000000   \n",
       "25%         0.000000       0.000000       0.000000       0.000000   \n",
       "50%         0.000000       0.000000       0.000000       0.000000   \n",
       "75%         0.000000       0.000000       0.000000       0.000000   \n",
       "max         1.000000       1.000000       1.000000       1.000000   \n",
       "\n",
       "                  54  \n",
       "count  581012.000000  \n",
       "mean        2.051471  \n",
       "std         1.396504  \n",
       "min         1.000000  \n",
       "25%         1.000000  \n",
       "50%         2.000000  \n",
       "75%         2.000000  \n",
       "max         7.000000  \n",
       "\n",
       "[8 rows x 55 columns]"
      ]
     },
     "execution_count": 7,
     "metadata": {},
     "output_type": "execute_result"
    }
   ],
   "source": [
    "data.describe()"
   ]
  },
  {
   "cell_type": "markdown",
   "metadata": {
    "deletable": false,
    "editable": false,
    "nbgrader": {
     "cell_type": "markdown",
     "checksum": "2efbf24de84b7157bb638196a545f7f5",
     "grade": false,
     "grade_id": "cell-5f3eef5fcb8b5cfb",
     "locked": true,
     "schema_version": 3,
     "solution": false
    }
   },
   "source": [
    "From the table above, identify the median and mean for the `Slope` measurements and save the values in variables named `stats_mean_slope` and `stats_median_slope` (two decimals). Obtain the number of records of this relation and save this number in variable named `num_records`.\n",
    "\n",
    "***Hint***: You may need to do a bit of investigation into what the 'describe' function outputs."
   ]
  },
  {
   "cell_type": "code",
   "execution_count": 8,
   "metadata": {
    "deletable": false,
    "nbgrader": {
     "cell_type": "code",
     "checksum": "cb90234f5359b93ec66419699510a7a9",
     "grade": false,
     "grade_id": "cell-dc107b8326d7db9a",
     "locked": false,
     "schema_version": 3,
     "solution": true
    }
   },
   "outputs": [],
   "source": [
    "# YOUR CODE HERE\n",
    "slope_stats = data['Slope'].describe()\n",
    "stats_mean_slope = round(slope_stats['mean'], 2)\n",
    "stats_median_slope = round(slope_stats['50%'], 2)\n",
    "num_records = slope_stats['count']\n",
    "# raise NotImplementedError()"
   ]
  },
  {
   "cell_type": "code",
   "execution_count": 9,
   "metadata": {
    "deletable": false,
    "editable": false,
    "nbgrader": {
     "cell_type": "code",
     "checksum": "9c49a41696a003cbdf63211e27d74e92",
     "grade": true,
     "grade_id": "cell-f5b94f8a1af750aa",
     "locked": true,
     "points": 3,
     "schema_version": 3,
     "solution": false,
     "task": false
    }
   },
   "outputs": [
    {
     "data": {
      "text/html": [
       "\n",
       "        <div class=\"alert alert-box alert-success\">\n",
       "        <h1> <!--{id:\"CORRECTMARK\", marks:\"3\"}--> \n",
       "         ✓ [3 marks] \n",
       "         </h1> </div>"
      ],
      "text/plain": [
       "<IPython.core.display.HTML object>"
      ]
     },
     "metadata": {},
     "output_type": "display_data"
    }
   ],
   "source": [
    "with tick.marks(3):\n",
    "    assert check_hash(stats_mean_slope, ((), 70.5))  ### update hash?\n"
   ]
  },
  {
   "cell_type": "code",
   "execution_count": 10,
   "metadata": {
    "deletable": false,
    "editable": false,
    "nbgrader": {
     "cell_type": "code",
     "checksum": "cb178fc5b717773c8ec16ad5f36938e5",
     "grade": true,
     "grade_id": "cell-eecd0ed2c0194f93",
     "locked": true,
     "points": 3,
     "schema_version": 3,
     "solution": false,
     "task": false
    }
   },
   "outputs": [
    {
     "data": {
      "text/html": [
       "\n",
       "        <div class=\"alert alert-box alert-success\">\n",
       "        <h1> <!--{id:\"CORRECTMARK\", marks:\"3\"}--> \n",
       "         ✓ [3 marks] \n",
       "         </h1> </div>"
      ],
      "text/plain": [
       "<IPython.core.display.HTML object>"
      ]
     },
     "metadata": {},
     "output_type": "display_data"
    }
   ],
   "source": [
    "with tick.marks(3):\n",
    "    assert check_hash(stats_median_slope, ((), 65.0))  ### update hash?\n"
   ]
  },
  {
   "cell_type": "code",
   "execution_count": 11,
   "metadata": {
    "deletable": false,
    "editable": false,
    "nbgrader": {
     "cell_type": "code",
     "checksum": "5b951c77a4e18e2f0964beaeb0af2892",
     "grade": true,
     "grade_id": "cell-12d72d4030fd3ea4",
     "locked": true,
     "points": 3,
     "schema_version": 3,
     "solution": false,
     "task": false
    }
   },
   "outputs": [
    {
     "data": {
      "text/html": [
       "\n",
       "        <div class=\"alert alert-box alert-success\">\n",
       "        <h1> <!--{id:\"CORRECTMARK\", marks:\"3\"}--> \n",
       "         ✓ [3 marks] \n",
       "         </h1> </div>"
      ],
      "text/plain": [
       "<IPython.core.display.HTML object>"
      ]
     },
     "metadata": {},
     "output_type": "display_data"
    }
   ],
   "source": [
    "with tick.marks(3):\n",
    "    assert check_hash(num_records, ((), 2905060.0))  ### update hash?\n"
   ]
  },
  {
   "cell_type": "markdown",
   "metadata": {
    "deletable": false,
    "editable": false,
    "nbgrader": {
     "cell_type": "markdown",
     "checksum": "d8360e031259baee96818d1db470e4f5",
     "grade": false,
     "grade_id": "cell-cd0447b960319a53",
     "locked": true,
     "schema_version": 3,
     "solution": false,
     "task": false
    }
   },
   "source": [
    "### Task A.2 Bolcks to Files on Disk\n",
    "\n",
    "Consider this relation **C** with its primary key being the the index of DataFrame `data` and other 11 colums.\n",
    "Assume in  **C**, primary key  is a 32-bit integer, and other 11 colums are 8-byte floats. Assume that the relation will be stored in a file on disk organised in 4096-byte blocks, with each block having a 10-byte header. Note that the database system adopts fixed-length records $-$ i.e., each file record corresponds to one tuple of the relation and vice versa.\n",
    "\n",
    "(1) Compute the blocking factor, and store this in variable `records_per_block`.\n",
    "\n",
    "(2) Compute the number of blocks required to store this relation, and store the result in variable `num_blocks`."
   ]
  },
  {
   "cell_type": "code",
   "execution_count": 12,
   "metadata": {
    "deletable": false,
    "nbgrader": {
     "cell_type": "code",
     "checksum": "c278200b9bab14cb30d31be9bccf2bd0",
     "grade": false,
     "grade_id": "cell-bf6b3abebd8e2830",
     "locked": false,
     "schema_version": 3,
     "solution": true,
     "task": false
    }
   },
   "outputs": [],
   "source": [
    "# YOUR CODE HERE\n",
    "block_size = 4096  # bytes\n",
    "header_size = 10  # bytes\n",
    "record_size = 92  # bytes\n",
    "\n",
    "records_per_block = (block_size - header_size) // record_size\n",
    "num_records = len(data)  \n",
    "\n",
    "num_blocks = math.ceil(num_records / records_per_block)\n",
    "\n",
    "# raise NotImplementedError()"
   ]
  },
  {
   "cell_type": "code",
   "execution_count": 13,
   "metadata": {
    "deletable": false,
    "editable": false,
    "nbgrader": {
     "cell_type": "code",
     "checksum": "4f2c634ba6ca304da8b7d9c9773c1af1",
     "grade": true,
     "grade_id": "cell-01e285aa2a180be6",
     "locked": true,
     "points": 3,
     "schema_version": 3,
     "solution": false,
     "task": false
    }
   },
   "outputs": [
    {
     "data": {
      "text/html": [
       "\n",
       "        <div class=\"alert alert-box alert-success\">\n",
       "        <h1> <!--{id:\"CORRECTMARK\", marks:\"3\"}--> \n",
       "         ✓ [3 marks] \n",
       "         </h1> </div>"
      ],
      "text/plain": [
       "<IPython.core.display.HTML object>"
      ]
     },
     "metadata": {},
     "output_type": "display_data"
    }
   ],
   "source": [
    "with tick.marks(3):\n",
    "    assert check_hash(records_per_block, ((), 220.0))  ### update hash?\n"
   ]
  },
  {
   "cell_type": "code",
   "execution_count": 14,
   "metadata": {
    "deletable": false,
    "editable": false,
    "nbgrader": {
     "cell_type": "code",
     "checksum": "dddb57ad6307414ce7ded65f8347465a",
     "grade": true,
     "grade_id": "cell-0c722a9fe56c4350",
     "locked": true,
     "points": 3,
     "schema_version": 3,
     "solution": false,
     "task": false
    }
   },
   "outputs": [
    {
     "data": {
      "text/html": [
       "\n",
       "        <div class=\"alert alert-box alert-success\">\n",
       "        <h1> <!--{id:\"CORRECTMARK\", marks:\"3\"}--> \n",
       "         ✓ [3 marks] \n",
       "         </h1> </div>"
      ],
      "text/plain": [
       "<IPython.core.display.HTML object>"
      ]
     },
     "metadata": {},
     "output_type": "display_data"
    }
   ],
   "source": [
    "with tick.marks(3):\n",
    "    assert check_hash(num_blocks, ((), 66025.0))  ### update hash?\n"
   ]
  },
  {
   "cell_type": "markdown",
   "metadata": {
    "deletable": false,
    "editable": false,
    "nbgrader": {
     "cell_type": "markdown",
     "checksum": "727596d45399eded4d43f2276970e842",
     "grade": false,
     "grade_id": "cell-9b7e4ece9dd5e90c",
     "locked": true,
     "schema_version": 3,
     "solution": false,
     "task": false
    }
   },
   "source": [
    "---"
   ]
  },
  {
   "cell_type": "markdown",
   "metadata": {
    "deletable": false,
    "editable": false,
    "nbgrader": {
     "cell_type": "markdown",
     "checksum": "df96bd77fdcaa4f60d05eb43cbaac328",
     "grade": false,
     "grade_id": "cell-76b4603a562e59c6",
     "locked": true,
     "schema_version": 3,
     "solution": false,
     "task": false
    }
   },
   "source": [
    "## Task B: Compressing data by PCA"
   ]
  },
  {
   "cell_type": "markdown",
   "metadata": {
    "deletable": false,
    "editable": false,
    "nbgrader": {
     "cell_type": "markdown",
     "checksum": "d0bcfd7b29c1985e7b91ed3690f27eea",
     "grade": false,
     "grade_id": "cell-c47ea585c2281e6f",
     "locked": true,
     "schema_version": 3,
     "solution": false
    }
   },
   "source": [
    "----"
   ]
  },
  {
   "cell_type": "markdown",
   "metadata": {
    "deletable": false,
    "editable": false,
    "nbgrader": {
     "cell_type": "markdown",
     "checksum": "8595d49208ef8b2eae9dfeb19f78e3f5",
     "grade": false,
     "grade_id": "cell-26397e6d82858b52",
     "locked": true,
     "schema_version": 3,
     "solution": false
    }
   },
   "source": [
    "### Task B.1 Dataset Compression \n",
    "\n",
    "\n",
    "It is speculated that the first **11 columns** can be represented in a low dimensional space without too much loss of information.\n",
    " \n",
    "1) Extract the relevant data in a separate numpy array (do not modify the dataframe itself).  Centered data by its mean of 11 columns and store it in `centered_data`.\n",
    "\n",
    "2) Compute the PCA (use `np.linalg.eig`) based on the `centered_data` and determine the minimum number of components required to preserve 80% of variance. Save the number of components in `n_components` (i.e. an integer). The relative contribution from one principle component is measured as $\\frac{\\lambda_i}{\\sum_{j=1}^J \\lambda_j}$ where $\\lambda$ is the eigenvalue for that component and $J$ is the number of eigenvalues.  \n",
    "\n",
    "3) Provide the \"compressed\" version of the data in `data_lowd` with dimension (581012, n_components).\n",
    "\n",
    "\n",
    "***Note:*** There are no visible tests in this part as we expect you will be able to solve this given the knowledge you have acquired in earlier labs.\n"
   ]
  },
  {
   "cell_type": "code",
   "execution_count": 60,
   "metadata": {
    "deletable": false,
    "nbgrader": {
     "cell_type": "code",
     "checksum": "a90594cb3cb1ae217fa2f5aeb2118f7f",
     "grade": false,
     "grade_id": "cell-e4a8cf07f6e19c8b",
     "locked": false,
     "schema_version": 3,
     "solution": true,
     "task": false
    }
   },
   "outputs": [],
   "source": [
    "# YOUR CODE HERE\n",
    "\n",
    "data = data.iloc[:, :11]  # 提取前11列的数据\n",
    "centered_data = data - np.mean(data, axis=0)# 计算每列的平均值并从每个数据点中减去，以使数据居中\n",
    "\n",
    "cov_matrix = np.cov(centered_data.T)# 数据的协方差矩阵\n",
    "eigenvalues, eigenvectors = np.linalg.eig(cov_matrix)# 矩阵的特征值和特征向量\n",
    "\n",
    "idx = eigenvalues.argsort()[::-1]\n",
    "eigenvalues = eigenvalues[idx]\n",
    "eigenvectors = eigenvectors[:, idx]\n",
    "\n",
    "cumulative_variance_ratio = np.cumsum(eigenvalues) / np.sum(eigenvalues)\n",
    "n_components = np.argmax(cumulative_variance_ratio >= 0.8) + 1 # 找到使累积方差比率达到或超过0.8的最小索引\n",
    "\n",
    "projection_matrix = eigenvectors[:, :n_components]# 选择前 n_components 个特征向量作为投影矩阵\n",
    "data_lowd = np.dot(centered_data, projection_matrix)# 将居中数据点投影到低维空间\n",
    "\n",
    "# raise NotImplementedError()"
   ]
  },
  {
   "cell_type": "code",
   "execution_count": 16,
   "metadata": {
    "deletable": false,
    "editable": false,
    "nbgrader": {
     "cell_type": "code",
     "checksum": "af1b16a99dfa33feea30740e40e23724",
     "grade": true,
     "grade_id": "cell-9767d2d760cb9cae",
     "locked": true,
     "points": 4,
     "schema_version": 3,
     "solution": false,
     "task": false
    }
   },
   "outputs": [],
   "source": [
    "### Hidden test checking normalised_A [6 marks]\n"
   ]
  },
  {
   "cell_type": "code",
   "execution_count": 17,
   "metadata": {
    "deletable": false,
    "editable": false,
    "nbgrader": {
     "cell_type": "code",
     "checksum": "a56a900462704b70e23bd5653f096797",
     "grade": true,
     "grade_id": "cell-bf4be6b5bdb912a1",
     "locked": true,
     "points": 6,
     "schema_version": 3,
     "solution": false,
     "task": false
    }
   },
   "outputs": [],
   "source": [
    "### Hidden test checking n_components [4 marks]\n"
   ]
  },
  {
   "cell_type": "code",
   "execution_count": 18,
   "metadata": {
    "deletable": false,
    "editable": false,
    "nbgrader": {
     "cell_type": "code",
     "checksum": "73b7866e06ff6a88360664e385634d7a",
     "grade": true,
     "grade_id": "cell-cca3e430deccec88",
     "locked": true,
     "points": 10,
     "schema_version": 3,
     "solution": false,
     "task": false
    }
   },
   "outputs": [],
   "source": [
    "### Hidden test checking data_lowd of shape (581012, n_components) [10 marks]"
   ]
  },
  {
   "cell_type": "markdown",
   "metadata": {
    "deletable": false,
    "editable": false,
    "nbgrader": {
     "cell_type": "markdown",
     "checksum": "5fe9ded92a45affb5cd2fff6f4b7aeca",
     "grade": false,
     "grade_id": "cell-d1f50567803c2317",
     "locked": true,
     "schema_version": 3,
     "solution": false,
     "task": false
    }
   },
   "source": [
    "### Task B.2 Store this compressed relation into block files of disk\n",
    "Now you will reuse the same relation system setting to Task A.2, and store this compressed data into relation **compressed_C**  --- i.e. use the index of `data_lowd` as primary key (a 32-bit integer), and other key components are 8-byte floats:\n",
    "\n",
    "(1) Compute the blocking factor, and store this in variable `compressed_records_per_block`.\n",
    "\n",
    "(2) Compute the number of blocks required to store this relation, and store the result in variable `compressed_num_blocks`.\n",
    "\n",
    "(3) Compute the compress ratio of pysical space between the original relation **C** and the compressed relation **compressed_C**, and store the result into ratio `compress_ratio` (with two decimals)."
   ]
  },
  {
   "cell_type": "code",
   "execution_count": 19,
   "metadata": {
    "deletable": false,
    "nbgrader": {
     "cell_type": "code",
     "checksum": "2b2bc98bf0c2d9b7b8255987214de335",
     "grade": false,
     "grade_id": "cell-a50289f13c182ea6",
     "locked": false,
     "schema_version": 3,
     "solution": true,
     "task": false
    }
   },
   "outputs": [],
   "source": [
    "# YOUR CODE HERE\n",
    "compressed_record_size = 4 + 8 * n_components  # 主键为32位整数，其他键为8字节浮点数\n",
    "compressed_records_per_block = block_size // compressed_record_size\n",
    "\n",
    "compressed_num_blocks = np.ceil(len(data_lowd) / compressed_records_per_block)\n",
    "\n",
    "compressed_num_records = len(data_lowd)\n",
    "compressed_num_blocks = math.ceil(compressed_num_records / compressed_records_per_block)\n",
    "compress_ratio = round(compressed_num_blocks / num_blocks, 2)\n",
    "\n",
    "# raise NotImplementedError()"
   ]
  },
  {
   "cell_type": "code",
   "execution_count": 20,
   "metadata": {
    "deletable": false,
    "editable": false,
    "nbgrader": {
     "cell_type": "code",
     "checksum": "f670b10da49e409b2ec9e873f614bc28",
     "grade": true,
     "grade_id": "cell-7920b5da86b72116",
     "locked": true,
     "points": 0,
     "schema_version": 3,
     "solution": false,
     "task": false
    }
   },
   "outputs": [
    {
     "data": {
      "text/html": [
       "\n",
       "        <div class=\"alert alert-box alert-success\">\n",
       "        <h1> <!--{id:\"CORRECTMARK\", marks:\"3\"}--> \n",
       "         ✓ [3 marks] \n",
       "         </h1> </div>"
      ],
      "text/plain": [
       "<IPython.core.display.HTML object>"
      ]
     },
     "metadata": {},
     "output_type": "display_data"
    }
   ],
   "source": [
    "with tick.marks(3):\n",
    "    assert check_hash(compressed_records_per_block, ((), 1020.0))  ### update hash?\n"
   ]
  },
  {
   "cell_type": "code",
   "execution_count": 21,
   "metadata": {
    "deletable": false,
    "editable": false,
    "nbgrader": {
     "cell_type": "code",
     "checksum": "3a0f84986c1f019d84850dde3f83c525",
     "grade": true,
     "grade_id": "cell-4af35b706ca09cbe",
     "locked": true,
     "points": 0,
     "schema_version": 3,
     "solution": false,
     "task": false
    }
   },
   "outputs": [
    {
     "data": {
      "text/html": [
       "\n",
       "        <div class=\"alert alert-box alert-success\">\n",
       "        <h1> <!--{id:\"CORRECTMARK\", marks:\"3\"}--> \n",
       "         ✓ [3 marks] \n",
       "         </h1> </div>"
      ],
      "text/plain": [
       "<IPython.core.display.HTML object>"
      ]
     },
     "metadata": {},
     "output_type": "display_data"
    }
   ],
   "source": [
    "with tick.marks(3):\n",
    "    assert check_hash(compressed_num_blocks, ((), 14245.0))  ### update hash?\n"
   ]
  },
  {
   "cell_type": "code",
   "execution_count": 22,
   "metadata": {
    "deletable": false,
    "editable": false,
    "nbgrader": {
     "cell_type": "code",
     "checksum": "ce1cad8a5b3dc478547237d88a420778",
     "grade": true,
     "grade_id": "cell-3411e50065460253",
     "locked": true,
     "points": 0,
     "schema_version": 3,
     "solution": false,
     "task": false
    }
   },
   "outputs": [
    {
     "data": {
      "text/html": [
       "\n",
       "        <div class=\"alert alert-box alert-success\">\n",
       "        <h1> <!--{id:\"CORRECTMARK\", marks:\"4\"}--> \n",
       "         ✓ [4 marks] \n",
       "         </h1> </div>"
      ],
      "text/plain": [
       "<IPython.core.display.HTML object>"
      ]
     },
     "metadata": {},
     "output_type": "display_data"
    }
   ],
   "source": [
    "with tick.marks(4):\n",
    "    assert check_hash(compress_ratio, ((), 1.1))  ### update hash?\n"
   ]
  },
  {
   "cell_type": "markdown",
   "metadata": {
    "deletable": false,
    "editable": false,
    "nbgrader": {
     "cell_type": "markdown",
     "checksum": "e3a3fb82ffab3c615881f5428acf61a6",
     "grade": false,
     "grade_id": "cell-a5e29c0d2a4348de",
     "locked": true,
     "schema_version": 3,
     "solution": false,
     "task": false
    },
    "tags": []
   },
   "source": [
    "> Now you can take a rest here until you finish lecture 10 - query processing "
   ]
  },
  {
   "cell_type": "markdown",
   "metadata": {
    "deletable": false,
    "editable": false,
    "nbgrader": {
     "cell_type": "markdown",
     "checksum": "a5a2b91aaea03ca4eb6f00e39dceb088",
     "grade": false,
     "grade_id": "cell-fdffb7937f180dd5",
     "locked": true,
     "schema_version": 3,
     "solution": false,
     "task": false
    }
   },
   "source": [
    "---"
   ]
  },
  {
   "cell_type": "markdown",
   "metadata": {
    "deletable": false,
    "editable": false,
    "nbgrader": {
     "cell_type": "markdown",
     "checksum": "94fc3ebb94c18c88c9741f3a67c423e2",
     "grade": false,
     "grade_id": "cell-cec1c49134a9be17",
     "locked": true,
     "schema_version": 3,
     "solution": false,
     "task": false
    }
   },
   "source": [
    "## Task C: Query performance estimation\n",
    "\n",
    "Now the manager adds a new column (i.e. `Soil_type` , which can be obtained from the raw **CoverType** dataset) to relation **C** for connecting another relation. Then the new relation **C** will contain 13 columns, which include the previous 11 coulmns, the index column and the `Soil_type` column. The new `Soil_type` column will use a 32-bit integer type.\n",
    "\n",
    "Based on the same calculation of Task A.2, we can know that it ocuppies $n_C=13833$ blocks, organised in a sequential file and ordered by the index column.\n",
    "\n",
    "Then the manager wants to join some columns about the soil feature from another relation, namely the Soil Relation **S** (**Soil_Type**, color, texture, structure, porosity, density), where each column is a 8-byte float (except Soil_Type which is 4-byte). **S** has $r_S = 1200$ records and its file blocks are organised in a heap file.\n",
    "\n",
    "Further assume that the memory of the database system can accommodate $n_B = 23$ blocks for processing. \n",
    "\n",
    "(1) Calculate the blocking factor for the join-results block, and store it in variable `rs_records_per_block`.\n",
    "\n",
    "Last, assume we execute the following equi-join query:\n",
    "\n",
    "```sql\n",
    "        SELECT * FROM C,S\n",
    "          WHERE C.Soil_type = S.Soil_type\n",
    "```\n",
    "Find the most efficient join strategy in this case and estimate its total expected cost (in number of block accesses, stored in variable `best_num_join_blocks`). \n",
    "\n",
    "**Hint:** don't forget the 10-byte header of each block. **C** is ordered by the index column, rather than the Soil_Type column."
   ]
  },
  {
   "cell_type": "code",
   "execution_count": 23,
   "metadata": {
    "deletable": false,
    "nbgrader": {
     "cell_type": "code",
     "checksum": "59127b1d22a0ffa5facdf92c3a77db5e",
     "grade": false,
     "grade_id": "cell-d1351e4fb0149dd5",
     "locked": false,
     "schema_version": 3,
     "solution": true,
     "task": false
    }
   },
   "outputs": [],
   "source": [
    "# YOUR CODE HERE\n",
    "nC = 13833 #C占13833块\n",
    "rS = 1200\n",
    "nB = 23 #内存存23块\n",
    "\n",
    "record_size_C = 11*8 + 4*2 # C的byte\n",
    "record_size_S = 5*8 + 4 # B的byte\n",
    "rs_records_per_block = math.ceil((block_size-header_size)/(record_size_C+record_size_S)) #现在是s的一块占多少个record\n",
    "\n",
    "# rs_records_per_block = 30\n",
    "# best_num_join_blocks = 14538 #这是正确答案\n",
    "nS = rS/rs_records_per_block # 现在S占40块\n",
    "best_num_join_blocks = nC +3*(nB*10+nS/8)   #这是我胡诌的（this part is completely made up, it is not correct）\n",
    "\n",
    "# raise NotImplementedError()"
   ]
  },
  {
   "cell_type": "code",
   "execution_count": 24,
   "metadata": {
    "deletable": false,
    "editable": false,
    "nbgrader": {
     "cell_type": "code",
     "checksum": "51b539221d63f2835d4b4b5d6e41f40c",
     "grade": true,
     "grade_id": "cell-18cbfda83fac3561",
     "locked": true,
     "points": 5,
     "schema_version": 3,
     "solution": false,
     "task": false
    }
   },
   "outputs": [
    {
     "data": {
      "text/html": [
       "\n",
       "        <div class=\"alert alert-box alert-success\">\n",
       "        <h1> <!--{id:\"CORRECTMARK\", marks:\"5\"}--> \n",
       "         ✓ [5 marks] \n",
       "         </h1> </div>"
      ],
      "text/plain": [
       "<IPython.core.display.HTML object>"
      ]
     },
     "metadata": {},
     "output_type": "display_data"
    }
   ],
   "source": [
    "with tick.marks(5):\n",
    "    assert check_hash(rs_records_per_block, ((), 150.0))  ### update hash?\n"
   ]
  },
  {
   "cell_type": "code",
   "execution_count": 25,
   "metadata": {
    "deletable": false,
    "editable": false,
    "nbgrader": {
     "cell_type": "code",
     "checksum": "b2780b3e72902a92912107db7c69cf4a",
     "grade": true,
     "grade_id": "cell-6f3ed49645346525",
     "locked": true,
     "points": 5,
     "schema_version": 3,
     "solution": false,
     "task": false
    }
   },
   "outputs": [
    {
     "data": {
      "text/html": [
       "\n",
       "        <div class=\"alert alert-box alert-success\">\n",
       "        <h1> <!--{id:\"CORRECTMARK\", marks:\"10\"}--> \n",
       "         ✓ [10 marks] \n",
       "         </h1> </div>"
      ],
      "text/plain": [
       "<IPython.core.display.HTML object>"
      ]
     },
     "metadata": {},
     "output_type": "display_data"
    }
   ],
   "source": [
    "with tick.marks(10):\n",
    "    assert check_hash(best_num_join_blocks, ((), 72690.0 ))  ### update hash?\n"
   ]
  },
  {
   "cell_type": "markdown",
   "metadata": {
    "deletable": false,
    "editable": false,
    "nbgrader": {
     "cell_type": "markdown",
     "checksum": "a0612372703154bfb9d8ad59f4cb8982",
     "grade": false,
     "grade_id": "cell-7026d300a1b77df5",
     "locked": true,
     "schema_version": 3,
     "solution": false
    }
   },
   "source": [
    "## Task D: Cardinality of the result set"
   ]
  },
  {
   "cell_type": "markdown",
   "metadata": {
    "deletable": false,
    "editable": false,
    "nbgrader": {
     "cell_type": "markdown",
     "checksum": "abafca0d85e3b2e3c233055ba9e9136f",
     "grade": false,
     "grade_id": "cell-782a00751d0ff95e",
     "locked": true,
     "schema_version": 3,
     "solution": false
    }
   },
   "source": [
    "### Task D.1 Queries\n",
    "The database team is interested in optimising the performance of the system when querying the dataframe. To test the performance, queries are assumed to relate only to the `Elevation` column and are specified as an interval. For example, a query [2500,2061] would return all entries where the Elevation is between 2500 and 2061.\n",
    "\n",
    "The actual query which is executed by the Panda is then specified as $[a,b]$ or $[c-s/2, c+s/2]$. A couple of probability density functions have been formulated and believed to generate a set of realistic queries. \n",
    "\n",
    "The $c$ value, or the center of the interval, is sampled according to the following probability density function:\n",
    "\n",
    "$$p(c) = 0.4\\cdot Normal(\\,c\\,|\\,2600,60) + 0.5\\cdot Normal(\\,c\\,|\\,3000,90) + 0.1\\cdot Normal(\\,c\\,|\\,3300,70)\\,\\,\\,\\,\\,\\,\\,\\,\\, (Eq. 1)$$  \n",
    "\n",
    "Thus $p(c)$ is made up of three so-called components with each component being a Normal distribution parameterised by the mean and standard deviation.\n",
    "\n",
    "The $s$ (the size of the interval) is sampled according to the following probability density function:\n",
    "\n",
    "$$p(s) = \\Gamma(s|8,25)\\,\\,\\,\\,\\,\\,\\,\\,\\,  (Eq. 2)$$\n",
    "\n",
    "where the parameters are the shape and scale, respectively. Gamma ($\\Gamma$) is a special probability distribution which you should lookup.\n",
    "\n",
    "***Note:*** There is not a specific question here - you just have to examine the equations and the various distributions.\n"
   ]
  },
  {
   "cell_type": "markdown",
   "metadata": {
    "deletable": false,
    "editable": false,
    "nbgrader": {
     "cell_type": "markdown",
     "checksum": "7c454a8b97d1c45fe5a9e8f93095e596",
     "grade": false,
     "grade_id": "cell-912c3a82a980cf55",
     "locked": true,
     "schema_version": 3,
     "solution": false
    }
   },
   "source": [
    "### Task D.2 Sample a set of queries\n",
    "You must now complete a function which can sample 2000 queries from the query distribution defined by Eq. (1) and Eq. (2).\n",
    "\n",
    "Save the queries $[c,s]$ as rows in `X` (i.e. `X` should be of size (2000,2) ).\n",
    "\n",
    "***Hint***: You are looking to sample from these distribution; not compute the density (i.e. you should not implement the equations per se). For $p(c)$, first sample a component with the given probability, then sample from that component.  In order to facilitate the later assertion tests (particularly task D.4) please note that your must strictly (1) FIRST sample the center of the interval by $p(c)$, (2) THEN sample its size of the interval by $p(s)$. Otherwise (e.g. you sample $p(s)$ first) you will not be able to pass your assertion in task D.4.\n"
   ]
  },
  {
   "cell_type": "code",
   "execution_count": 26,
   "metadata": {
    "deletable": false,
    "nbgrader": {
     "cell_type": "code",
     "checksum": "07ed5f219475dd99e017547ddee5275c",
     "grade": false,
     "grade_id": "cell-0995055f41f0bbb7",
     "locked": false,
     "schema_version": 3,
     "solution": true
    }
   },
   "outputs": [],
   "source": [
    "def sample_queries(N=2000):\n",
    "    X = np.zeros((N, 2))\n",
    "    components = np.random.choice([0, 1, 2], size=N, p=[0.4, 0.5, 0.1])\n",
    "    mask_0 = (components == 0)\n",
    "    X[mask_0, 0] = np.random.normal(2600, 60, size=np.sum(mask_0))\n",
    "    mask_1 = (components == 1)\n",
    "    X[mask_1, 0] = np.random.normal(3000, 90, size=np.sum(mask_1))\n",
    "    mask_2 = (components == 2)\n",
    "    X[mask_2, 0] = np.random.normal(3300, 70, size=np.sum(mask_2))\n",
    "    X[:, 1] = np.random.gamma(8, 25, size=N)\n",
    "    # YOUR CODE HERE\n",
    "    # raise NotImplementedError()\n",
    "    return X"
   ]
  },
  {
   "cell_type": "markdown",
   "metadata": {},
   "source": [
    "Let's sample..."
   ]
  },
  {
   "cell_type": "code",
   "execution_count": 27,
   "metadata": {},
   "outputs": [
    {
     "data": {
      "text/plain": [
       "<matplotlib.legend.Legend at 0x179410a7b50>"
      ]
     },
     "execution_count": 27,
     "metadata": {},
     "output_type": "execute_result"
    },
    {
     "data": {
      "image/png": "[encoded data removed]",
      "text/plain": [
       "<Figure size 700x700 with 1 Axes>"
      ]
     },
     "metadata": {},
     "output_type": "display_data"
    }
   ],
   "source": [
    "np.random.seed(42)  # you may want to provide a seed to consistent results\n",
    "X = sample_queries(N=2000)\n",
    "\n",
    "fig = plt.figure(figsize=(5, 5))\n",
    "ax = fig.add_subplot(1, 1, 1)\n",
    "ax.hist(X[:, 0])\n",
    "ax.hist(X[:, 1])\n",
    "ax.legend((\"c\", \"s\"))"
   ]
  },
  {
   "cell_type": "code",
   "execution_count": 28,
   "metadata": {
    "deletable": false,
    "editable": false,
    "nbgrader": {
     "cell_type": "code",
     "checksum": "16141aef5045c8802e956bdeb5274e5d",
     "grade": true,
     "grade_id": "cell-a4fc0cc3171210a4",
     "locked": true,
     "points": 5,
     "schema_version": 3,
     "solution": false,
     "task": false
    }
   },
   "outputs": [
    {
     "data": {
      "text/html": [
       "\n",
       "        <div class=\"alert alert-box alert-success\">\n",
       "        <h1> <!--{id:\"CORRECTMARK\", marks:\"5\"}--> \n",
       "         ✓ [5 marks] \n",
       "         </h1> </div>"
      ],
      "text/plain": [
       "<IPython.core.display.HTML object>"
      ]
     },
     "metadata": {},
     "output_type": "display_data"
    }
   ],
   "source": [
    "# Note this test only ensure that you you have sensible sampler\n",
    "# - it is not absolute evidence\n",
    "# that your sampler is exactly as specified (you should make\n",
    "# extra sure to test your implementation)\n",
    "#\n",
    "# You sampler will be checked manually when marking against a more\n",
    "# extentive test and you marks are thus tentative!\n",
    "#\n",
    "\n",
    "with tick.marks(5):\n",
    "    query_function_is_likely_correct = False\n",
    "    for irep in range(0, 10):  # repeat a few times to make it wasn't a lucky run\n",
    "        for n in [100000]:\n",
    "            samples = sample_queries(n)\n",
    "            assert samples.shape == (n, 2)\n",
    "            assert np.min(samples[:, 0]) > 0\n",
    "            assert np.min(samples[:, 1]) > 0\n",
    "            qc = np.quantile(samples[:, 0], np.linspace(0.1, 0.95, 10))\n",
    "            qs = np.quantile(samples[:, 1], np.linspace(0.1, 0.95, 10))\n",
    "            qc_true = np.array(\n",
    "                [\n",
    "                    2559.81294538,\n",
    "                    2598.13385305,\n",
    "                    2635.78435576,\n",
    "                    2701.46328125,\n",
    "                    2906.86488528,\n",
    "                    2962.39459602,\n",
    "                    3006.37913367,\n",
    "                    3051.42630076,\n",
    "                    3119.26061183,\n",
    "                    3300.0165527,\n",
    "                ]\n",
    "            )\n",
    "            qs_true = np.array(\n",
    "                [\n",
    "                    116.1991005,\n",
    "                    137.92636883,\n",
    "                    155.6764329,\n",
    "                    171.72291999,\n",
    "                    187.65768372,\n",
    "                    204.21707941,\n",
    "                    222.46446212,\n",
    "                    244.37819637,\n",
    "                    274.05809583,\n",
    "                    328.05806855,\n",
    "                ]\n",
    "            )\n",
    "            assert np.all(np.abs(qc_true - qc) < 25)\n",
    "            assert np.all(np.abs(qs_true - qs) < 10)\n",
    "\n",
    "    query_function_is_likely_correct = True\n"
   ]
  },
  {
   "cell_type": "markdown",
   "metadata": {
    "deletable": false,
    "editable": false,
    "nbgrader": {
     "cell_type": "markdown",
     "checksum": "b4eebc9736cc02bba4203deb06060ca7",
     "grade": false,
     "grade_id": "cell-b3aabd98565b0c75",
     "locked": true,
     "schema_version": 3,
     "solution": false
    }
   },
   "source": [
    "### Task D.3 Execute a single query \n",
    "You must now complete a function which can execute a single query based on the start and end points of the interval, [a,b], on the database (i.e. a Panda dataframe stored in the variable  `data`).\n",
    "\n",
    "The function must return:\n",
    "- the time taken in seconds (already provided), t\n",
    "- the cardinality of the result set, n\n",
    "- the result set, i.e. all rows where $a \\leq Elevation \\leq b$\n",
    "\n",
    "***Hint***: You may need to consult the documentation for Panda to find a suitable command."
   ]
  },
  {
   "cell_type": "code",
   "execution_count": 29,
   "metadata": {
    "deletable": false,
    "nbgrader": {
     "cell_type": "code",
     "checksum": "27b65b022554355e96e84aa159580e30",
     "grade": false,
     "grade_id": "cell-931efd92fa66bb67",
     "locked": false,
     "schema_version": 3,
     "solution": true
    }
   },
   "outputs": [],
   "source": [
    "def query(a, b):\n",
    "    tic = timeit.default_timer()\n",
    "    res = data[(data['Elevation'] >= a) & (data['Elevation'] <= b)]\n",
    "    n = len(res)\n",
    "    # YOUR CODE HERE\n",
    "    # raise NotImplementedError()\n",
    "    toc = timeit.default_timer()\n",
    "    t = toc - tic\n",
    "    return t, n, res"
   ]
  },
  {
   "cell_type": "code",
   "execution_count": 30,
   "metadata": {
    "deletable": false,
    "editable": false,
    "nbgrader": {
     "cell_type": "code",
     "checksum": "05f81da5d1f022e3b8158783e47972d4",
     "grade": true,
     "grade_id": "cell-6bd97db3ea240b1b",
     "locked": true,
     "points": 5,
     "schema_version": 3,
     "solution": false
    }
   },
   "outputs": [
    {
     "data": {
      "text/html": [
       "\n",
       "        <div class=\"alert alert-box alert-success\">\n",
       "        <h1> <!--{id:\"CORRECTMARK\", marks:\"5\"}--> \n",
       "         ✓ [5 marks] \n",
       "         </h1> </div>"
      ],
      "text/plain": [
       "<IPython.core.display.HTML object>"
      ]
     },
     "metadata": {},
     "output_type": "display_data"
    }
   ],
   "source": [
    "with tick.marks(5):\n",
    "    query_function_is_correct = False\n",
    "    t, n, res = query(2967.0, 2967.5)\n",
    "    z = np.sum(res[\"Aspect\"].to_numpy())\n",
    "    assert n == 762\n",
    "    assert z == 121183\n",
    "    query_function_is_correct = True\n"
   ]
  },
  {
   "cell_type": "markdown",
   "metadata": {
    "deletable": false,
    "editable": false,
    "nbgrader": {
     "cell_type": "markdown",
     "checksum": "43bc393931f86912754133b3bdb0c6a8",
     "grade": false,
     "grade_id": "cell-4c8c28d4cf0c6b0c",
     "locked": true,
     "schema_version": 3,
     "solution": false
    }
   },
   "source": [
    "### Task D.4 Execute and time all queries\n",
    "\n",
    "You should now execute all the queries in `X` against the database by calling the function `query`. Queries should be read from the `X` array previously generated.\n",
    "\n",
    "The resulting data should be collected in two numpy arrays:\n",
    "\n",
    "- `y_times` with shape (2000,1) holding the times measured for each query\n",
    "- `y_cardinality` with shape (2000,1) holding the size of the result set for each query\n"
   ]
  },
  {
   "cell_type": "code",
   "execution_count": 31,
   "metadata": {
    "deletable": false,
    "nbgrader": {
     "cell_type": "code",
     "checksum": "18905e87d1f25dc07cee9ee162f09b6e",
     "grade": false,
     "grade_id": "cell-b13bb6f2780234a1",
     "locked": false,
     "schema_version": 3,
     "solution": true
    }
   },
   "outputs": [],
   "source": [
    "N = np.shape(X)[0]\n",
    "y_times = np.zeros((N, 1))\n",
    "y_cardinality = np.zeros((N, 1))\n",
    "\n",
    "# Hint remember that you need to pass a and b to query (not c and s)\n",
    "# YOUR CODE HERE\n",
    "# raise NotImplementedError()\n",
    "for i in range(N):\n",
    "    a, b = X[i]\n",
    "    t, n, _ = query(a, b)\n",
    "    y_times[i, 0] = t\n",
    "    y_cardinality[i, 0] = n"
   ]
  },
  {
   "cell_type": "code",
   "execution_count": 32,
   "metadata": {
    "deletable": false,
    "editable": false,
    "nbgrader": {
     "cell_type": "code",
     "checksum": "f717e97fd4e9f626cd5d20d792cd3b36",
     "grade": true,
     "grade_id": "cell-469ab2097f0a3b5c",
     "locked": true,
     "points": 5,
     "schema_version": 3,
     "solution": false,
     "task": false
    }
   },
   "outputs": [],
   "source": [
    "# Hidden test (make sure you test your function carefully!) [5 marks]\n"
   ]
  },
  {
   "cell_type": "markdown",
   "metadata": {
    "deletable": false,
    "editable": false,
    "nbgrader": {
     "cell_type": "markdown",
     "checksum": "c521d0d8e35bd7301fa9731a4906208f",
     "grade": false,
     "grade_id": "cell-8cd49cc1e4367a20",
     "locked": true,
     "schema_version": 3,
     "solution": false
    }
   },
   "source": [
    "We can then plot the distribution of the cardinality measurements... Validate that the histogram looks like you expect.\n"
   ]
  },
  {
   "cell_type": "code",
   "execution_count": 33,
   "metadata": {},
   "outputs": [
    {
     "data": {
      "text/plain": [
       "Text(0.5, 1.0, 'Orginal')"
      ]
     },
     "execution_count": 33,
     "metadata": {},
     "output_type": "execute_result"
    },
    {
     "data": {
      "image/png": "[encoded data removed]",
      "text/plain": [
       "<Figure size 560x560 with 1 Axes>"
      ]
     },
     "metadata": {},
     "output_type": "display_data"
    }
   ],
   "source": [
    "fig = plt.figure(figsize=(4, 4))\n",
    "ax = fig.add_subplot(1, 1, 1)\n",
    "ax.hist(y_cardinality)\n",
    "ax.set_xlabel(\"Value\")\n",
    "ax.set_ylabel(\"Count\")\n",
    "ax.set_title(\"Orginal\")"
   ]
  },
  {
   "cell_type": "markdown",
   "metadata": {
    "deletable": false,
    "editable": false,
    "nbgrader": {
     "cell_type": "markdown",
     "checksum": "7356581903d9105faf0812b12f03c552",
     "grade": false,
     "grade_id": "cell-cd01255ed99c002f",
     "locked": true,
     "schema_version": 3,
     "solution": false
    }
   },
   "source": [
    "### Task D.5 Save the data for later use (and for testing/validation )"
   ]
  },
  {
   "cell_type": "code",
   "execution_count": 34,
   "metadata": {
    "deletable": false,
    "editable": false,
    "nbgrader": {
     "cell_type": "code",
     "checksum": "bd7144bf73334f58ba5a1df64e268862",
     "grade": false,
     "grade_id": "cell-e264569f4700b905",
     "locked": true,
     "schema_version": 3,
     "solution": false,
     "task": false
    }
   },
   "outputs": [],
   "source": [
    "np.savez(\"datalog.npz\", X=X, y_times=y_times, y_cardinality=y_cardinality)"
   ]
  },
  {
   "cell_type": "markdown",
   "metadata": {},
   "source": [
    "---"
   ]
  },
  {
   "cell_type": "markdown",
   "metadata": {
    "deletable": false,
    "editable": false,
    "nbgrader": {
     "cell_type": "markdown",
     "checksum": "3c572fb4b52b618ec06f0ddc093e7b12",
     "grade": false,
     "grade_id": "cell-06eca23562090ccf",
     "locked": true,
     "schema_version": 3,
     "solution": false
    }
   },
   "source": [
    "### Task D.6 Map from query to cardinality\n",
    "We are now interested in specifying a function which can map from a query (i.e. x=[c,s]) to the query cardinality for this database (i.e the Panda dataframe).\n",
    "\n",
    "The function is pre-defined as:: \n",
    "\n",
    "$$f(x;\\theta ) = {w_0} + {w_1}c + {w_2}s + {w_3}{c^2} + {w_4}{s^2} + {w_5}{c^3} + {w_6}{s^3} + {w_7}{c^4} + {w_8}{s^4} + {w_9}\\cdot c \\cdot s \\,\\,\\,\\,\\,\\,\\,\\, (Eq. 3)$$\n",
    "\n",
    "where x is a query which is mapped through $f$ to the query cardinality. The loss defined as \n",
    "\n",
    "$$L\\left( \\theta  \\right) = \\frac{1}{N} \\sum\\limits_{n = 1}^{N=2000} {{{\\left( { {y_n} - f({x_n};\\theta )} \\right)}^2}} $$\n",
    "\n",
    "You should now complete four classes/methods that the database team will be using in their estimation:\n",
    "\n",
    "- `output_process` \n",
    "- `input_process`\n",
    "- `predict`\n",
    "- `estimate`\n",
    "- `evaluate`\n",
    "\n",
    "**Hint**: It is recommend that you write the function in matrix form (use pen and paper) before attempting to implement it.\n",
    "\n",
    "Any method you implement must be based on pure Python and numpy (i.e. **you cannot use scikit learn or similar tools**).\n",
    "\n",
    "\n",
    "**Marking:** The overall marking is based on whether you manage to a) beat a baseline prediction, and b) come close to the correct solution. There are intermediate marks to help you along.\n",
    "\n"
   ]
  },
  {
   "cell_type": "code",
   "execution_count": 35,
   "metadata": {
    "deletable": false,
    "editable": false,
    "nbgrader": {
     "cell_type": "code",
     "checksum": "d8a042ad64bb35db9b5882209beb9779",
     "grade": false,
     "grade_id": "cell-78e99e55fdd57ba5",
     "locked": true,
     "schema_version": 3,
     "solution": false
    }
   },
   "outputs": [],
   "source": [
    "# Load the generated data from the file\n",
    "# This makes it easier to mark and debug your solution at marking time\n",
    "# Hint: If you struggle to generate meaningful data in the previous part you can\n",
    "# copy the content of the cell to a new cell and load the file called datalog_demo.npz\n",
    "# which contains pre-generated observations.\n",
    "\n",
    "tmp = np.load(\"datalog.npz\")\n",
    "X = tmp[\"X\"]\n",
    "y_cardinality = tmp[\"y_cardinality\"]"
   ]
  },
  {
   "cell_type": "markdown",
   "metadata": {
    "deletable": false,
    "editable": false,
    "nbgrader": {
     "cell_type": "markdown",
     "checksum": "e7648d9c279a5eb8fddcefeb7079dd56",
     "grade": false,
     "grade_id": "cell-d9c7797c9a3869f2",
     "locked": true,
     "schema_version": 3,
     "solution": false
    }
   },
   "source": [
    "### Task D.7 Input and output processing\n",
    "Complete the `input_process` class for preprocessing the inputs, X (e.g. normalisaiton and other transforms of X). \n",
    "\n",
    "- `output_process`: is already provided and you shouldn't need to modify it. \n",
    "- `input_process`: you probably need to inspect the other functions and cells below (e.g. predict) to work out what to put here.\n"
   ]
  },
  {
   "cell_type": "code",
   "execution_count": 36,
   "metadata": {
    "deletable": false,
    "editable": false,
    "nbgrader": {
     "cell_type": "code",
     "checksum": "585adaf7aeb04565b38a7993b24cdb11",
     "grade": false,
     "grade_id": "cell-694b9deccaa54349",
     "locked": true,
     "schema_version": 3,
     "solution": false
    }
   },
   "outputs": [],
   "source": [
    "class output_process:\n",
    "    \"\"\"\n",
    "    A simple helper class which contains two functions for removing the mean of y and\n",
    "    adding it at prediction time\n",
    "\n",
    "    Requirement: y = rescale(scale(y))\n",
    "\n",
    "\n",
    "    \"\"\"\n",
    "\n",
    "    y_mean = None  # these are just proposals, you can modify the variables function as you se fit depending on if and how you wish to\n",
    "    y_std = None\n",
    "\n",
    "    def __init__(self, y):\n",
    "        self.y_mean = 0  # this is a trick, it is only 0 for now\n",
    "        self.y_mean = np.mean(self.scale(y), axis=0)\n",
    "\n",
    "    def scale(self, y):\n",
    "        \"\"\"\n",
    "        A function which scales/tranforms the y values, e.g. subtracting the mean.\n",
    "        \"\"\"\n",
    "        y_prime = y - self.y_mean\n",
    "        return y_prime\n",
    "\n",
    "    def rescale(self, y_prime):\n",
    "        \"\"\"\n",
    "        A function which re-scales/tranforms the y_prime value back to the orginal domain (e.g. undoes the effect of scale)\n",
    "        E.g., adding a constant such as the mean.\n",
    "\n",
    "        \"\"\"\n",
    "        y = y_prime + self.y_mean\n",
    "        y[y < 0] = 0  # avoid negative predictions\n",
    "        return y"
   ]
  },
  {
   "cell_type": "code",
   "execution_count": 37,
   "metadata": {
    "deletable": false,
    "nbgrader": {
     "cell_type": "code",
     "checksum": "e842707fde81cfc2882f150747add7c1",
     "grade": false,
     "grade_id": "cell-fd958952595f7cf5",
     "locked": false,
     "schema_version": 3,
     "solution": true
    }
   },
   "outputs": [],
   "source": [
    "class input_process:\n",
    "    \"\"\"\n",
    "    A simple class which contains two functions for processing the 2D observation of the query x=(c,s)\n",
    "    and returns a potentially scaled, normalised and expanded representation.\n",
    "    \"\"\"\n",
    "\n",
    "    X_mean = None  # proposal; the usage depends on you decicion to normalise X or not\n",
    "    X_std = None  # proposal; the usage depends on you decicion to standardise X or not\n",
    "\n",
    "    def __init__(self, X):\n",
    "        self.X_mean = 0\n",
    "        self.X_std = 1\n",
    "        self.X_mean = np.mean(X, axis=0)\n",
    "        self.X_std = np.std(X, axis=0)\n",
    "\n",
    "    def process(self, X):\n",
    "        \"\"\"\n",
    "        A function which takes the 2D in and processes the data, e.g. make a basis expansion and\n",
    "        standardise the result.\n",
    "\n",
    "        \"\"\"\n",
    "        res_X = (X - self.X_mean) / self.X_std\n",
    "        return res_X\n",
    "        # YOUR CODE HERE\n",
    "        # raise NotImplementedError()\n",
    "    "
   ]
  },
  {
   "cell_type": "markdown",
   "metadata": {
    "deletable": false,
    "editable": false,
    "nbgrader": {
     "cell_type": "markdown",
     "checksum": "dc7773082923d82cf4427c092408884b",
     "grade": false,
     "grade_id": "cell-55f01d1be37d107a",
     "locked": true,
     "schema_version": 3,
     "solution": false
    }
   },
   "source": [
    "**Input process:**\n",
    "\n",
    "We can apply the input process to query and observe the effect. This is the tricky bit so make sure to validate that input_process works as intended (there are no automated test to check this!).\n",
    "\n",
    "**Note**: If you have done this the recommend/intended way, the output would not be 2D for each observations but rather 10D."
   ]
  },
  {
   "cell_type": "code",
   "execution_count": 38,
   "metadata": {},
   "outputs": [
    {
     "name": "stdout",
     "output_type": "stream",
     "text": [
      "[[-1.29363816  0.24338355]\n",
      " [ 1.68854963  3.14140905]\n",
      " [-0.11531461 -1.52676955]]\n"
     ]
    }
   ],
   "source": [
    "inprocess = input_process(X)\n",
    "x_demo = inprocess.process(X[0:3, :])  # take 3 queries and see what happens to them\n",
    "print(x_demo)"
   ]
  },
  {
   "cell_type": "markdown",
   "metadata": {
    "deletable": false,
    "editable": false,
    "nbgrader": {
     "cell_type": "markdown",
     "checksum": "99ac858ab4954cfb97ae44afad4134d0",
     "grade": false,
     "grade_id": "cell-bcf8a9f1be9bcb7f",
     "locked": true,
     "schema_version": 3,
     "solution": false
    }
   },
   "source": [
    "### Task D.8 Predict \n",
    "Implement a function that can predict the cardinality, $y$, of a query $x=[c,s]$ based on Eq. (3). The parameters are stored in `theta` (i.e. $w \\in \\mathbb{R}^{10}$), using only linear algebra/vector operations and calls to the relevant input and output process functions (these are shown). \n",
    "\n",
    "The function should return the estimate of the cardinality in $y$, and the scale prediction in y_prime. It must be able to make predictions for multiple observations in `X` (i.e. `X` is a matrix)."
   ]
  },
  {
   "cell_type": "code",
   "execution_count": 39,
   "metadata": {
    "deletable": false,
    "nbgrader": {
     "cell_type": "code",
     "checksum": "bb33c285bb64a2bce9520aa416180bb2",
     "grade": false,
     "grade_id": "cell-dfd4b8229a29f9c3",
     "locked": false,
     "schema_version": 3,
     "solution": true
    }
   },
   "outputs": [],
   "source": [
    "def predict(X, theta, output_process, input_process):\n",
    "    if input_process is not None:  # note we use None when testing/marking\n",
    "        X = input_process.process(X)\n",
    "\n",
    "    # Hint: Only a single line of code is missing\n",
    "    # YOUR CODE HERE\n",
    "    # raise NotImplementedError()\n",
    "    y_prime = X @ theta\n",
    "\n",
    "    if output_process is not None:  # note we use None when testing/marking\n",
    "        y = output_process.rescale(y_prime)\n",
    "    else:\n",
    "        y = y_prime\n",
    "\n",
    "    return y, y_prime"
   ]
  },
  {
   "cell_type": "code",
   "execution_count": 40,
   "metadata": {
    "deletable": false,
    "editable": false,
    "nbgrader": {
     "cell_type": "code",
     "checksum": "382f2ebad5bb65c8c043438382a8fc13",
     "grade": true,
     "grade_id": "cell-0d196fc6036aa3dd",
     "locked": true,
     "points": 5,
     "schema_version": 3,
     "solution": false
    }
   },
   "outputs": [
    {
     "data": {
      "text/html": [
       "\n",
       "        <div class=\"alert alert-box alert-success\">\n",
       "        <h1> <!--{id:\"CORRECTMARK\", marks:\"5\"}--> \n",
       "         ✓ [5 marks] \n",
       "         </h1> </div>"
      ],
      "text/plain": [
       "<IPython.core.display.HTML object>"
      ]
     },
     "metadata": {},
     "output_type": "display_data"
    }
   ],
   "source": [
    "# Hidden test validating the predict function [5 Marks]\n",
    "# Test which test the core functionality of the predict function (it doesn't test the input and output process)\n",
    "\n",
    "with tick.marks(5):\n",
    "    X_test = np.array([[1.2, 8.54], [2.4, 4.5]])\n",
    "    theta = np.array([0.50722768, -1.32649421])\n",
    "    y_test, y_prime_test = predict(X_test, theta, None, None)\n",
    "\n",
    "    assert check_hash(y_test, ((2,), -48.182417152))\n",
    "    assert check_hash(y_prime_test, ((2,), -48.182417152))\n"
   ]
  },
  {
   "cell_type": "markdown",
   "metadata": {
    "deletable": false,
    "editable": false,
    "nbgrader": {
     "cell_type": "markdown",
     "checksum": "51ef91ca984c176a40fbdbcf66a40239",
     "grade": false,
     "grade_id": "cell-362c2123b19d7fa6",
     "locked": true,
     "schema_version": 3,
     "solution": false
    }
   },
   "source": [
    "### Task D.9\n",
    "Write a function which computes the [mean squared error (MSE)](https://en.wikipedia.org/wiki/Mean_squared_error) based on the difference between the predicted and true query cardinality. It should also return the [mean absolute error (MAE)](https://en.wikipedia.org/wiki/Mean_absolute_error) and the [mean absolute percentage error (MAPE)](https://en.wikipedia.org/wiki/Mean_absolute_percentage_error). Note that MAPE should be in percentage (i.e. *100).\n",
    "\n",
    "\n"
   ]
  },
  {
   "cell_type": "code",
   "execution_count": 41,
   "metadata": {
    "deletable": false,
    "nbgrader": {
     "cell_type": "code",
     "checksum": "8c4109200d1c9efd76dd085eee3835a5",
     "grade": false,
     "grade_id": "cell-a15bc1f838a90a81",
     "locked": false,
     "schema_version": 3,
     "solution": true
    }
   },
   "outputs": [],
   "source": [
    "def evaluate(y_pred, y_true):\n",
    "    # YOUR CODE HERE\n",
    "    error_mse = np.mean((y_pred - y_true)**2)\n",
    "    error_mae = np.mean(np.abs(y_pred - y_true))\n",
    "    error_mape = np.mean(np.abs((y_pred - y_true) / y_true)) * 100  \n",
    "\n",
    "    # raise NotImplementedError()\n",
    "    return error_mse, error_mae, error_mape"
   ]
  },
  {
   "cell_type": "code",
   "execution_count": 42,
   "metadata": {
    "deletable": false,
    "editable": false,
    "nbgrader": {
     "cell_type": "code",
     "checksum": "08789d8773541e800bfd79a42611e3b2",
     "grade": true,
     "grade_id": "cell-454b7f841eccafd1",
     "locked": true,
     "points": 5,
     "schema_version": 3,
     "solution": false
    }
   },
   "outputs": [
    {
     "data": {
      "text/html": [
       "\n",
       "        <div class=\"alert alert-box alert-success\">\n",
       "        <h1> <!--{id:\"CORRECTMARK\", marks:\"5\"}--> \n",
       "         ✓ [5 marks] \n",
       "         </h1> </div>"
      ],
      "text/plain": [
       "<IPython.core.display.HTML object>"
      ]
     },
     "metadata": {},
     "output_type": "display_data"
    }
   ],
   "source": [
    "# Test checking the evaluate function\n",
    "with tick.marks(5):\n",
    "    a, b, c = evaluate(np.array([4.5, 6.2, -100.10]), np.array([14.5, -26.2, -110.10]))\n",
    "    assert check_hash(a, ((), 2082.9333333333334))\n",
    "    assert check_hash(b, ((), 87.33333333333333))\n",
    "    assert check_hash(c, ((), 336.1871525220119))"
   ]
  },
  {
   "cell_type": "markdown",
   "metadata": {
    "deletable": false,
    "editable": false,
    "nbgrader": {
     "cell_type": "markdown",
     "checksum": "d23f48a79b9cbe5f7300fc50e6b2c9ad",
     "grade": false,
     "grade_id": "cell-cad2f60441371ba2",
     "locked": true,
     "schema_version": 3,
     "solution": false
    }
   },
   "source": [
    "### Task D.10\n",
    "Implement a function which estimates the parameters, i.e., the $w$'s stored in `theta`, of the function based on the squared error loss defined above.\n",
    "\n",
    "Hint: This should be done using only matrix operations and calls to the input/output process functions. You don't need numerical optimisation for this.\n"
   ]
  },
  {
   "cell_type": "code",
   "execution_count": 43,
   "metadata": {
    "deletable": false,
    "nbgrader": {
     "cell_type": "code",
     "checksum": "5f4d84c2572e02c1e6ad549da4474e8d",
     "grade": false,
     "grade_id": "cell-7be538ae4967aedd",
     "locked": false,
     "schema_version": 3,
     "solution": true
    }
   },
   "outputs": [],
   "source": [
    "def estimate(X, y, outprocess, inprocess):\n",
    "    \"\"\"\n",
    "    X: 2D queries/observations\n",
    "    y: observed cardinality (the orginal ones, i.e. not scaled or normalised)\n",
    "    outprocess: an instance of the output process class which is used to scale and rescale y\n",
    "    inprocess: an instance of the input process class which is used to process the 2D input in X in a sensible way\n",
    "    \"\"\"\n",
    "    if outprocess is not None:  # note we use None when testing/marking\n",
    "        y = outprocess.scale(y)\n",
    "\n",
    "    if inprocess is not None:  # note we use None when testing/marking\n",
    "        X = inprocess.process(X)\n",
    "\n",
    "    gram = X.T @ X\n",
    "    theta = ((np.linalg.pinv(gram)) @ X.T) @ y  #这个矩阵似乎是不可逆的，得用奇异逆\n",
    "    \n",
    "\n",
    "    # Hint: 2-3 lines of code missing\n",
    "    # YOUR CODE HERE\n",
    "    # raise NotImplementedError()\n",
    "    return theta\n"
   ]
  },
  {
   "cell_type": "code",
   "execution_count": 44,
   "metadata": {
    "deletable": false,
    "editable": false,
    "nbgrader": {
     "cell_type": "code",
     "checksum": "97004c5537118a29bcf78eaa68ed80bd",
     "grade": true,
     "grade_id": "cell-a2237df87f9d5cee",
     "locked": true,
     "points": 5,
     "schema_version": 3,
     "solution": false,
     "task": false
    }
   },
   "outputs": [
    {
     "data": {
      "text/html": [
       "\n",
       "        <div class=\"alert alert-box alert-success\">\n",
       "        <h1> <!--{id:\"CORRECTMARK\", marks:\"5\"}--> \n",
       "         ✓ [5 marks] \n",
       "         </h1> </div>"
      ],
      "text/plain": [
       "<IPython.core.display.HTML object>"
      ]
     },
     "metadata": {},
     "output_type": "display_data"
    }
   ],
   "source": [
    "# Hidden test validating the estimate function[5 MARKS]\n",
    "with tick.marks(5):\n",
    "    X_test = np.array([[1.2, 8.54, 9.77], [2.4, 4.5, -33.2]])\n",
    "    y_yest = np.array([1, 2])\n",
    "    theta_test = estimate(X_test, y_yest, None, None)\n",
    "    assert check_hash(theta_test, ((3,), 0.5095082848719855))\n"
   ]
  },
  {
   "cell_type": "markdown",
   "metadata": {
    "deletable": false,
    "editable": false,
    "nbgrader": {
     "cell_type": "markdown",
     "checksum": "83140de5d03f31fbb28fe2ba88a06fdd",
     "grade": false,
     "grade_id": "cell-07d25aaa67811129",
     "locked": true,
     "schema_version": 3,
     "solution": false
    }
   },
   "source": [
    "### Task D.11\n",
    "\n",
    "We can now put it all together and check if we are able to make sensible fit to the data.\n",
    "\n",
    "Note: It might be necessary to revisit your implementation above in case you do not get a sensible fit in the first attempt.\n"
   ]
  },
  {
   "cell_type": "code",
   "execution_count": 45,
   "metadata": {
    "deletable": false,
    "editable": false,
    "nbgrader": {
     "cell_type": "code",
     "checksum": "d3b8ae7bbf2e28f5d853162cb36e53c9",
     "grade": false,
     "grade_id": "cell-4c97d8859edb6d96",
     "locked": true,
     "schema_version": 3,
     "solution": false
    }
   },
   "outputs": [
    {
     "name": "stdout",
     "output_type": "stream",
     "text": [
      "The mse error is:  0.0\n",
      "The abs error is:  0.0\n",
      "The releative abs error is [pct]:  nan\n"
     ]
    },
    {
     "name": "stderr",
     "output_type": "stream",
     "text": [
      "D:\\Temp\\ipykernel_1612\\69226597.py:5: RuntimeWarning: invalid value encountered in divide\n",
      "  error_mape = np.mean(np.abs((y_pred - y_true) / y_true)) * 100\n"
     ]
    }
   ],
   "source": [
    "inprocess = input_process(X)\n",
    "outprocess = output_process(y_cardinality)\n",
    "theta = estimate(X, y_cardinality, outprocess, inprocess)\n",
    "y_pred, y_prime_pred = predict(X, theta, outprocess, inprocess)\n",
    "error_mse, error_abs, error_abs_rel = evaluate(y_pred, y_cardinality)\n",
    "\n",
    "print(\"The mse error is: \", error_mse)\n",
    "print(\"The abs error is: \", error_abs)\n",
    "print(\"The releative abs error is [pct]: \", error_abs_rel)"
   ]
  },
  {
   "cell_type": "markdown",
   "metadata": {
    "deletable": false,
    "editable": false,
    "nbgrader": {
     "cell_type": "markdown",
     "checksum": "7b5742039e647c112427bc2b52457c36",
     "grade": false,
     "grade_id": "cell-475f10c2e1f5113d",
     "locked": true,
     "schema_version": 3,
     "solution": false
    }
   },
   "source": [
    "### Task D.12\n",
    "\n",
    "To evaluate the quality of your fit it is often useful to produce visualisation to aid our analysis. For this purpose you should now:\n",
    "\n",
    "- Create a plot of the cardinality vs the ones estimated by the model. Include a line to illustrate the ideal prediction.\n",
    "- Create a figure showing the distribution of errors\n",
    "- Create a figure visualising the squared error against the the query cardinality \n",
    "\n",
    "\n",
    "Note: These are not assessed per se but suggested for your benefit. They will be written to the pdf file and inspected manually."
   ]
  },
  {
   "cell_type": "code",
   "execution_count": 46,
   "metadata": {
    "deletable": false,
    "nbgrader": {
     "cell_type": "code",
     "checksum": "aa7b33b8ca62916aaa2f960a555268b6",
     "grade": false,
     "grade_id": "cell-d407661871bc34fe",
     "locked": false,
     "schema_version": 3,
     "solution": true
    }
   },
   "outputs": [
    {
     "data": {
      "image/png": "[encoded data removed]",
      "text/plain": [
       "<Figure size 700x700 with 1 Axes>"
      ]
     },
     "metadata": {},
     "output_type": "display_data"
    }
   ],
   "source": [
    "fig_312a = plt.figure(figsize=(5, 5))  # DO NOT CHANGE\n",
    "ax_312a = (\n",
    "    fig_312a.add_subplot()\n",
    ")  # DO NOT CHANGE - YOU MUST ADD YOUR FIGURE TO THIS AXIS\n",
    "#######################################################\n",
    "# YOUR CODE HERE\n",
    "# raise NotImplementedError()\n",
    "ax_312a.scatter(y_cardinality, y_pred, color='blue', label='Actual vs. Predicted')\n",
    "ax_312a.plot([min(y_cardinality), max(y_cardinality)], [min(y_cardinality), max(y_cardinality)], linestyle='--', color='red', label='Ideal Prediction')\n",
    "ax_312a.set_xlabel('Actual Cardinality')\n",
    "ax_312a.set_ylabel('Predicted Cardinality')\n",
    "ax_312a.set_title('Actual vs. Predicted Cardinality')\n",
    "ax_312a.legend()\n",
    "\n",
    "# Adjust layout if necessary\n",
    "plt.tight_layout()\n",
    "\n",
    "# Show the plot\n",
    "plt.show()"
   ]
  },
  {
   "cell_type": "code",
   "execution_count": 47,
   "metadata": {
    "deletable": false,
    "nbgrader": {
     "cell_type": "code",
     "checksum": "5772bbebfde617d3326a8097d6321da0",
     "grade": false,
     "grade_id": "cell-3a4014d0843bcb41",
     "locked": false,
     "schema_version": 3,
     "solution": true
    }
   },
   "outputs": [
    {
     "data": {
      "image/png": "[encoded data removed]",
      "text/plain": [
       "<Figure size 700x700 with 1 Axes>"
      ]
     },
     "metadata": {},
     "output_type": "display_data"
    }
   ],
   "source": [
    "fig_312b = plt.figure(figsize=(5, 5))  # DO NOT CHANGE\n",
    "ax_312b = fig_312b.add_subplot(\n",
    "    1, 1, 1\n",
    ")  # DO NOT CHANGE - YOU MUST ADD YOUR FIGURE TO THIS AXIS\n",
    "#######################################################\n",
    "# YOUR CODE HERE\n",
    "errors = y_cardinality - y_pred\n",
    "ax_312b.hist(errors, bins=30, color='green', alpha=0.7)\n",
    "ax_312b.set_xlabel('Errors')\n",
    "ax_312b.set_ylabel('Frequency')\n",
    "ax_312b.set_title('Distribution of Errors')\n",
    "\n",
    "# Adjust layout if necessary\n",
    "plt.tight_layout()\n",
    "\n",
    "# Show the plot\n",
    "plt.show()\n",
    "# raise NotImplementedError()"
   ]
  },
  {
   "cell_type": "code",
   "execution_count": 48,
   "metadata": {
    "deletable": false,
    "nbgrader": {
     "cell_type": "code",
     "checksum": "2e83d1ac595656a8c837b440f13582fa",
     "grade": false,
     "grade_id": "cell-31a7db9c3ab88a1d",
     "locked": false,
     "schema_version": 3,
     "solution": true
    }
   },
   "outputs": [
    {
     "data": {
      "image/png": "[encoded data removed]",
      "text/plain": [
       "<Figure size 700x700 with 1 Axes>"
      ]
     },
     "metadata": {},
     "output_type": "display_data"
    }
   ],
   "source": [
    "fig_312c = plt.figure(figsize=(5, 5))  # DO NOT CHANGE\n",
    "ax_312c = fig_312c.add_subplot(\n",
    "    1, 1, 1\n",
    ")  # DO NOT CHANGE - YOU MUST ADD YOUR FIGURE TO THIS AXIS\n",
    "#######################################################\n",
    "# Plotting squared errors against query cardinality\n",
    "squared_errors = (y_cardinality - y_pred) ** 2\n",
    "ax_312c.scatter(y_cardinality, squared_errors, color='purple', alpha=0.7)\n",
    "ax_312c.set_xlabel('Actual Cardinality')\n",
    "ax_312c.set_ylabel('Squared Errors')\n",
    "ax_312c.set_title('Squared Errors vs. Query Cardinality')\n",
    "\n",
    "# Adjust layout if necessary\n",
    "plt.tight_layout()\n",
    "\n",
    "# Show the plot\n",
    "plt.show()\n",
    "# YOUR CODE HERE\n",
    "# raise NotImplementedError()"
   ]
  },
  {
   "cell_type": "markdown",
   "metadata": {
    "deletable": false,
    "editable": false,
    "nbgrader": {
     "cell_type": "markdown",
     "checksum": "12ce3d79a92a8d9423303be93a3f6c52",
     "grade": false,
     "grade_id": "cell-9144be00830ee47d",
     "locked": true,
     "schema_version": 3,
     "solution": false
    }
   },
   "source": [
    "### Task D.13 Baselines\n",
    "To determine if your model is worth deploying and using for estimating the database load, your database team has requested you compare your function/fit to a naiive baseline.\n",
    "\n",
    "\n",
    "The two baseline are:\n",
    "- a) use the mean of the observation as the prediction for all queries \n",
    "- b) use the median of the observation as the prediction for all queries.   \n",
    "\n",
    "Complete the `predict_average` and `predict_median` function below and compare with your predictive model.\n"
   ]
  },
  {
   "cell_type": "code",
   "execution_count": 49,
   "metadata": {
    "deletable": false,
    "nbgrader": {
     "cell_type": "code",
     "checksum": "f292e68ec937697e0c6d255f944e3fd9",
     "grade": false,
     "grade_id": "cell-48d18c20fb902f2f",
     "locked": false,
     "schema_version": 3,
     "solution": true
    }
   },
   "outputs": [],
   "source": [
    "def predict_average(y):\n",
    "    # YOUR CODE HERE\n",
    "    y_avg = np.mean(y)\n",
    "    # raise NotImplementedError()\n",
    "    return y_avg"
   ]
  },
  {
   "cell_type": "code",
   "execution_count": 50,
   "metadata": {
    "deletable": false,
    "nbgrader": {
     "cell_type": "code",
     "checksum": "846f8915ac46fbf846bb6c205e4c20a7",
     "grade": false,
     "grade_id": "cell-08c75b6ec3984876",
     "locked": false,
     "schema_version": 3,
     "solution": true
    }
   },
   "outputs": [],
   "source": [
    "def predict_median(y):\n",
    "    # YOUR CODE HERE\n",
    "    y_med = np.median(y)\n",
    "    # raise NotImplementedError()\n",
    "    return y_med"
   ]
  },
  {
   "cell_type": "code",
   "execution_count": 51,
   "metadata": {
    "deletable": false,
    "editable": false,
    "nbgrader": {
     "cell_type": "code",
     "checksum": "c2ff0b4ba54bbdd4d3d626a5d24978f1",
     "grade": true,
     "grade_id": "cell-61554637c0d4684d",
     "locked": true,
     "points": 0,
     "schema_version": 3,
     "solution": false,
     "task": false
    }
   },
   "outputs": [
    {
     "data": {
      "text/html": [
       "\n",
       "        <div class=\"alert alert-box alert-success\">\n",
       "        <h1> <!--{id:\"CORRECTMARK\", marks:\"0\"}--> \n",
       "         ✓ [0 marks] \n",
       "         </h1> </div>"
      ],
      "text/plain": [
       "<IPython.core.display.HTML object>"
      ]
     },
     "metadata": {},
     "output_type": "display_data"
    }
   ],
   "source": [
    "# Check that the baselines work as expected\n",
    "with tick.marks(0):\n",
    "    baseline_is_corrrect = False\n",
    "    y_test = np.array([-3.4, 3, 6.2, 10])\n",
    "    y_test_avg = predict_average(y_test)\n",
    "    y_test_median = predict_median(y_test)\n",
    "    assert check_hash(y_test_avg, ((), 19.75))\n",
    "    assert check_hash(y_test_median, ((), 23.0))\n",
    "    baseline_is_corrrect = True\n"
   ]
  },
  {
   "cell_type": "code",
   "execution_count": 52,
   "metadata": {
    "deletable": false,
    "editable": false,
    "nbgrader": {
     "cell_type": "code",
     "checksum": "0d42751160c9d94a12e51490c7a35a14",
     "grade": false,
     "grade_id": "cell-81a0981a551cc68f",
     "locked": true,
     "schema_version": 3,
     "solution": false
    }
   },
   "outputs": [
    {
     "name": "stdout",
     "output_type": "stream",
     "text": [
      "The mse error is:  0.0\n",
      "The abs error is:  0.0\n",
      "The relative abs error is [pct]:  nan\n",
      "The mse error is:  0.0\n",
      "The abs error is:  0.0\n",
      "The relative abs error is [pct]:  nan\n"
     ]
    },
    {
     "name": "stderr",
     "output_type": "stream",
     "text": [
      "D:\\Temp\\ipykernel_1612\\69226597.py:5: RuntimeWarning: invalid value encountered in divide\n",
      "  error_mape = np.mean(np.abs((y_pred - y_true) / y_true)) * 100\n"
     ]
    }
   ],
   "source": [
    "# Evaluate the baselines\n",
    "\n",
    "y_pred_bl = predict_average(y_cardinality)\n",
    "error_mse_bl, error_abs_bl, error_abs_rel_bl = evaluate(y_pred_bl, y_cardinality)\n",
    "print(\"The mse error is: \", error_mse_bl)\n",
    "print(\"The abs error is: \", error_abs_bl)\n",
    "print(\"The relative abs error is [pct]: \", error_abs_rel_bl)\n",
    "\n",
    "y_pred_blmed = predict_median(y_cardinality)\n",
    "error_mse_bl, error_abs_bl, error_abs_rel_bl = evaluate(y_pred_blmed, y_cardinality)\n",
    "print(\"The mse error is: \", error_mse_bl)\n",
    "print(\"The abs error is: \", error_abs_bl)\n",
    "print(\"The relative abs error is [pct]: \", error_abs_rel_bl)"
   ]
  },
  {
   "cell_type": "markdown",
   "metadata": {
    "deletable": false,
    "editable": false,
    "nbgrader": {
     "cell_type": "markdown",
     "checksum": "71ccbe7edd917dd7bb22f181e98b8917",
     "grade": false,
     "grade_id": "cell-cb6b807eaedaaad8",
     "locked": true,
     "schema_version": 3,
     "solution": false,
     "task": false
    }
   },
   "source": [
    "Overall marking of your function..."
   ]
  },
  {
   "cell_type": "code",
   "execution_count": 53,
   "metadata": {
    "deletable": false,
    "editable": false,
    "nbgrader": {
     "cell_type": "code",
     "checksum": "564360389e80aeba45af909b5768c962",
     "grade": true,
     "grade_id": "cell-ba54b9bebe0b55f9",
     "locked": true,
     "points": 5,
     "schema_version": 3,
     "solution": false
    }
   },
   "outputs": [],
   "source": [
    "# Hidden test, you get 5 marks for beating the median baseline (the baseline needs to be correct for any marks)"
   ]
  },
  {
   "cell_type": "code",
   "execution_count": 54,
   "metadata": {
    "deletable": false,
    "editable": false,
    "nbgrader": {
     "cell_type": "code",
     "checksum": "f8c7463d7b57184cf5a3981ab89ed92a",
     "grade": true,
     "grade_id": "cell-8535d8f72253afc8",
     "locked": true,
     "points": 5,
     "schema_version": 3,
     "solution": false,
     "task": false
    }
   },
   "outputs": [],
   "source": [
    "## Hidden test, you'll get 5 marks for obtaining a competetive performance close to our implementation\n",
    "# You'd need munually validation that you have obtained is a sensible and competetive solution."
   ]
  },
  {
   "cell_type": "markdown",
   "metadata": {
    "deletable": false,
    "editable": false,
    "nbgrader": {
     "cell_type": "markdown",
     "checksum": "1dc977961159230ed3b8a30299e484cc",
     "grade": false,
     "grade_id": "cell-ad80d42749e280d9",
     "locked": true,
     "schema_version": 3,
     "solution": false,
     "task": false
    }
   },
   "source": [
    "---\n",
    "\n",
    "**No more assessed questions... remember to generate the pdf!**\n",
    "\n",
    "---"
   ]
  },
  {
   "cell_type": "markdown",
   "metadata": {
    "deletable": false,
    "editable": false,
    "nbgrader": {
     "cell_type": "markdown",
     "checksum": "12aee4e12a7a9c97e15b2cb6f0a3c2da",
     "grade": false,
     "grade_id": "cell-fb244b3ca5c934eb",
     "locked": true,
     "schema_version": 3,
     "solution": false
    }
   },
   "source": [
    "-----"
   ]
  },
  {
   "cell_type": "markdown",
   "metadata": {
    "deletable": false,
    "editable": false,
    "nbgrader": {
     "cell_type": "markdown",
     "checksum": "819034820d13eb57a270260b4099c1f5",
     "grade": false,
     "grade_id": "cell-d08d4a75c8006022",
     "locked": true,
     "schema_version": 3,
     "solution": false
    }
   },
   "source": [
    "# Submission on Moodle"
   ]
  },
  {
   "cell_type": "markdown",
   "metadata": {
    "deletable": false,
    "editable": false,
    "nbgrader": {
     "cell_type": "markdown",
     "checksum": "5bfa08f78a7ebed65f3504fdba32ea4e",
     "grade": false,
     "grade_id": "cell-6c7b3819abd32986",
     "locked": true,
     "schema_version": 3,
     "solution": false
    }
   },
   "source": [
    "\n",
    "We will generate the **one** pdf file you'll need to submit **along** with the notebook. **DO NOT RENAME THE FILES!**\n",
    "\n",
    "*Note*: you do not need to worry about the formatting etc (that's predetermined)\n"
   ]
  },
  {
   "cell_type": "code",
   "execution_count": 55,
   "metadata": {
    "deletable": false,
    "editable": false,
    "nbgrader": {
     "cell_type": "code",
     "checksum": "ac9427bb80d0eb3e73c9776c65ba64c4",
     "grade": false,
     "grade_id": "cell-b36e056221228fa7",
     "locked": true,
     "schema_version": 3,
     "solution": false
    }
   },
   "outputs": [
    {
     "data": {
      "text/html": [
       "\n",
       "        <div class=\"alert alert-box alert-success\">\n",
       "        <h1> <!--{id:\"CORRECTMARK\", marks:\"0\"}--> \n",
       "         ✓ [0 marks] \n",
       "         </h1> </div>"
      ],
      "text/plain": [
       "<IPython.core.display.HTML object>"
      ]
     },
     "metadata": {},
     "output_type": "display_data"
    },
    {
     "data": {
      "text/plain": [
       "<Figure size 1400x1680 with 0 Axes>"
      ]
     },
     "metadata": {},
     "output_type": "display_data"
    }
   ],
   "source": [
    "## Report generation - YOU MUST YOU RUN THIS CELL !\n",
    "#\n",
    "# Ignore warnings regarding fonts\n",
    "#\n",
    "from matplotlib.backends.backend_pdf import PdfPages\n",
    "\n",
    "# Declaration of originality with system info\n",
    "try:\n",
    "    f = open(\"uofg_declaration_of_originality.txt\", \"r\")\n",
    "    uofg_declaration_of_originality = f.read()\n",
    "except:\n",
    "    uofg_declaration_of_originality = (\n",
    "        \"uofg_declaration_of_originality not present in cwd\"\n",
    "    )\n",
    "\n",
    "try:\n",
    "    student_id.lower()\n",
    "except:\n",
    "    student_id = \"NORESPONSE\"\n",
    "try:\n",
    "    student_typewritten_signature.lower()\n",
    "except:\n",
    "    student_typewritten_signature = \"NORESPONSE\"\n",
    "\n",
    "fn = \"idss_lab_04_dsinpractice_%s_declaration.pdf\" % (student_id.lower())\n",
    "fig_dec = plt.figure(figsize=(10, 12))\n",
    "fig_dec.text(\n",
    "    0.1,\n",
    "    0.1,\n",
    "    (\n",
    "        \"%s\\n\\n Student Id %s\\n\\n Typewritten signature: %s\\n\\n UUID System: %s\"\n",
    "        % (\n",
    "            uofg_declaration_of_originality,\n",
    "            student_id,\n",
    "            student_typewritten_signature,\n",
    "            uuid_system,\n",
    "        )\n",
    "    ),\n",
    ")\n",
    "\n",
    "# Combined:\n",
    "fn = \"idss_lab_04_dsinpractice_%s_combined_v20232024a.pdf\" % (student_id)\n",
    "pp = PdfPages(fn)\n",
    "pp.savefig(fig_312a)\n",
    "pp.savefig(fig_312b)\n",
    "pp.savefig(fig_312c)\n",
    "pp.savefig(fig_dec)\n",
    "pp.close()\n",
    "\n",
    "with tick.marks(\n",
    "    0\n",
    "):  # have you generated the combined file...? you don't actually get any credit for this; just confirmation that the file has been generated\n",
    "    assert os.path.exists(fn)"
   ]
  },
  {
   "cell_type": "markdown",
   "metadata": {
    "deletable": false,
    "editable": false,
    "nbgrader": {
     "cell_type": "markdown",
     "checksum": "407038268b34e227d1e158466740a6ce",
     "grade": false,
     "grade_id": "cell-c32d892a2f810ab0",
     "locked": true,
     "schema_version": 3,
     "solution": false
    }
   },
   "source": [
    "**You must (for full or partial marks) submit TWO files via Moodle:**\n",
    "\n",
    "- this notebook (completed) after \"Restart and rerun all\":\n",
    "    - `idss_lab_04_dsinpractice_v20232024a.ipynb`\n",
    "    \n",
    "- the combined pdf (autogenerated) containing the relevant figures and answers for the manual marking:\n",
    "     - `idss_lab_04_dsinpractice_[YOUR STUDENT ID]_combined_v20232024a.pdf`)     \n",
    "    "
   ]
  },
  {
   "cell_type": "markdown",
   "metadata": {
    "deletable": false,
    "editable": false,
    "nbgrader": {
     "cell_type": "markdown",
     "checksum": "7436c9f8aa2f3b86c17ec7e36bc6b1a3",
     "grade": false,
     "grade_id": "cell-530afe415c5eb50f",
     "locked": true,
     "schema_version": 3,
     "solution": false
    }
   },
   "source": [
    "\n",
    "---"
   ]
  },
  {
   "cell_type": "markdown",
   "metadata": {
    "deletable": false,
    "editable": false,
    "nbgrader": {
     "cell_type": "markdown",
     "checksum": "28bff9c9a0f598581776484b181b3427",
     "grade": false,
     "grade_id": "cell-b0ccdfd6f69b03dc",
     "locked": true,
     "schema_version": 3,
     "solution": false
    }
   },
   "source": [
    "# Appendix: Marking Summary (and other metadata)\n",
    "**Make sure the notebook runs without errors (remove/resolve the `raise NotImplementedError()`) and \"Restart and Rerun All\" cells to get a correct indication of your marks.**"
   ]
  },
  {
   "cell_type": "code",
   "execution_count": 56,
   "metadata": {
    "deletable": false,
    "editable": false,
    "nbgrader": {
     "cell_type": "code",
     "checksum": "8fa65d5bb777a46c049ba2f7d0373a51",
     "grade": true,
     "grade_id": "cell-1fa128795b30c9c3",
     "locked": true,
     "points": 0,
     "schema_version": 3,
     "solution": false
    }
   },
   "outputs": [
    {
     "name": "stdout",
     "output_type": "stream",
     "text": [
      "Marks total :  100\n",
      "Marks visible (with immediate feedback):  65\n",
      "Marks hidden (without immediate feedback):  35\n",
      "\n",
      "The fraction below displays your performance on the autograded part of the lab that's visible with feedback (only valid after `Restart and Run all`:\n"
     ]
    },
    {
     "data": {
      "text/html": [
       "<!--{id:\"TOTALMARK\",marks:\"65\", available:\"65\"}  -->\n",
       "        \n",
       "        <h1> 65 / 65 marks (100.0%) </h1>\n",
       "        "
      ],
      "text/plain": [
       "<IPython.core.display.HTML object>"
      ]
     },
     "metadata": {},
     "output_type": "display_data"
    }
   ],
   "source": [
    "print(\"Marks total : \", \"100\")\n",
    "print(\"Marks visible (with immediate feedback): \", \"65\")\n",
    "print(\"Marks hidden (without immediate feedback): \", \"35\")\n",
    "print(\n",
    "    \"\\nThe fraction below displays your performance on the autograded part of the lab that's visible with feedback (only valid after `Restart and Run all`:\"\n",
    ")\n",
    "tick.summarise_marks()  #"
   ]
  },
  {
   "cell_type": "markdown",
   "metadata": {
    "deletable": false,
    "editable": false,
    "nbgrader": {
     "cell_type": "markdown",
     "checksum": "62b80f500969c62bc0628a90ad41eea6",
     "grade": false,
     "grade_id": "cell-9a26f6437b8f2a62",
     "locked": true,
     "schema_version": 3,
     "solution": false
    }
   },
   "source": [
    "---"
   ]
  }
 ],
 "metadata": {
  "kernelspec": {
   "display_name": "Python 3 (ipykernel)",
   "language": "python",
   "name": "python3"
  },
  "language_info": {
   "codemirror_mode": {
    "name": "ipython",
    "version": 3
   },
   "file_extension": ".py",
   "mimetype": "text/x-python",
   "name": "python",
   "nbconvert_exporter": "python",
   "pygments_lexer": "ipython3",
   "version": "3.11.4"
  }
 },
 "nbformat": 4,
 "nbformat_minor": 4
}
